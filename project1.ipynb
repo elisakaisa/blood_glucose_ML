{
 "cells": [
  {
   "cell_type": "code",
   "execution_count": 1,
   "metadata": {},
   "outputs": [],
   "source": [
    "import numpy as np\n",
    "import pandas as pd \n",
    "import matplotlib as mp\n",
    "import sklearn as sk\n",
    "import matplotlib.pyplot as plt\n",
    "import seaborn as sns"
   ]
  },
  {
   "cell_type": "markdown",
   "metadata": {},
   "source": [
    "<h1>Import data </h1>"
   ]
  },
  {
   "cell_type": "markdown",
   "metadata": {},
   "source": [
    "Dataset: https://archive.ics.uci.edu/ml/datasets/diabetes <br>\n",
    "Your goal is to use this data to develop an ML model that can predict any individual's Blood Glucose Value, given time and activity (as specified in the data description) as input. Also try to understand, and mine for any patterns for the effect of exercise on Blood Glucose."
   ]
  },
  {
   "cell_type": "code",
   "execution_count": 2,
   "metadata": {},
   "outputs": [
    {
     "name": "stdout",
     "output_type": "stream",
     "text": [
      "<class 'pandas.core.frame.DataFrame'>\n",
      "Int64Index: 29330 entries, 0 to 340\n",
      "Data columns (total 5 columns):\n",
      " #   Column   Non-Null Count  Dtype \n",
      "---  ------   --------------  ----- \n",
      " 0   date     29297 non-null  object\n",
      " 1   time     29330 non-null  object\n",
      " 2   code     29330 non-null  int64 \n",
      " 3   value    29297 non-null  object\n",
      " 4   patient  29330 non-null  int8  \n",
      "dtypes: int64(1), int8(1), object(3)\n",
      "memory usage: 1.1+ MB\n"
     ]
    }
   ],
   "source": [
    "# combine all data table together into one dataframe\n",
    "for i in range(1,71):\n",
    "    if i == 1:\n",
    "        patient = \"01\"\n",
    "        filename = 'Diabetes-Data/data-'+ patient\n",
    "        rawdata = pd.read_table(filename, names = [\"date\", \"time\",\"code\", \"value\" ])\n",
    "        rawdata['patient'] = patient\n",
    "    else:\n",
    "        if i < 10 and i != 1:\n",
    "            patient = \"0\" + str(i)\n",
    "        else:\n",
    "            patient = str(i)\n",
    "        filename = 'Diabetes-Data/data-' + patient\n",
    "        temp = pd.read_table(filename, names = [\"date\", \"time\",\"code\", \"value\" ])\n",
    "        temp['patient'] = patient\n",
    "\n",
    "        rawdata = pd.concat([rawdata, temp])\n",
    "\n",
    "data = rawdata.copy()\n",
    "\n",
    "# change patient into an integer to save memory space and computation time\n",
    "data['patient'] = pd.to_numeric(data['patient'], errors='coerce', downcast=\"integer\")\n",
    "\n",
    "data\n",
    "data.info()"
   ]
  },
  {
   "cell_type": "code",
   "execution_count": 3,
   "metadata": {},
   "outputs": [
    {
     "name": "stdout",
     "output_type": "stream",
     "text": [
      "Missing values\n",
      "date => 33\n",
      "value => 33\n",
      "None\n",
      "____\n",
      "date => 0.11%\n",
      "value => 0.11%\n",
      "None\n"
     ]
    }
   ],
   "source": [
    "#useful functions to calculate missing values\n",
    "\n",
    "def missing_cols(df):\n",
    "    '''prints out columns with its amount of missing values'''\n",
    "    total = 0\n",
    "    for col in df.columns:\n",
    "        missing_vals = df[col].isnull().sum()\n",
    "        total += missing_vals\n",
    "        if missing_vals != 0:\n",
    "            print(f\"{col} => {df[col].isnull().sum()}\")\n",
    "    \n",
    "    if total == 0:\n",
    "        print(\"no missing values left\")\n",
    "\n",
    "def perc_missing(df):\n",
    "    '''prints out columns with missing values with its %'''\n",
    "    for col in df.columns:\n",
    "        pct = df[col].isna().mean() * 100\n",
    "        if (pct != 0):\n",
    "            print('{} => {}%'.format(col, round(pct, 2)))\n",
    "            \n",
    "#calculate missing values in the rawdata\n",
    "print(\"Missing values\")\n",
    "print(missing_cols(data))\n",
    "print(\"____\")\n",
    "print(perc_missing(data))"
   ]
  },
  {
   "cell_type": "markdown",
   "metadata": {},
   "source": [
    "dropping the missing values, because there are so few of them"
   ]
  },
  {
   "cell_type": "markdown",
   "metadata": {},
   "source": [
    "<h1>Data cleaning </h1>"
   ]
  },
  {
   "cell_type": "code",
   "execution_count": 4,
   "metadata": {},
   "outputs": [
    {
     "name": "stdout",
     "output_type": "stream",
     "text": [
      "value => 8\n",
      "None\n",
      "value => 0.03%\n",
      "None\n",
      " \n",
      "<class 'pandas.core.frame.DataFrame'>\n",
      "Int64Index: 29256 entries, 0 to 340\n",
      "Data columns (total 5 columns):\n",
      " #   Column   Non-Null Count  Dtype \n",
      "---  ------   --------------  ----- \n",
      " 0   date     29256 non-null  object\n",
      " 1   time     29256 non-null  object\n",
      " 2   code     29256 non-null  int64 \n",
      " 3   value    29256 non-null  int64 \n",
      " 4   patient  29256 non-null  int8  \n",
      "dtypes: int64(2), int8(1), object(2)\n",
      "memory usage: 1.1+ MB\n",
      "None\n"
     ]
    }
   ],
   "source": [
    "# remove rows with missing values\n",
    "data = data.dropna()\n",
    "\n",
    "#drop non numeric values of \"value\" and change value from object to float, then drop N/A values\n",
    "data['value'] = pd.to_numeric(data['value'], errors='coerce')\n",
    "print(missing_cols(data))\n",
    "print(perc_missing(data))\n",
    "print(\" \")\n",
    "data = data.dropna()\n",
    "data['value'] = data['value'].astype(int)\n",
    "\n",
    "print(data.info())"
   ]
  },
  {
   "cell_type": "markdown",
   "metadata": {},
   "source": [
    "Dropping values that are not numeric, because there are so few of them"
   ]
  },
  {
   "cell_type": "code",
   "execution_count": 5,
   "metadata": {},
   "outputs": [
    {
     "name": "stdout",
     "output_type": "stream",
     "text": [
      "timestamp => 12\n",
      "None\n",
      "timestamp => 0.04%\n",
      "None\n",
      " \n",
      "<class 'pandas.core.frame.DataFrame'>\n",
      "Int64Index: 29244 entries, 0 to 340\n",
      "Data columns (total 6 columns):\n",
      " #   Column     Non-Null Count  Dtype         \n",
      "---  ------     --------------  -----         \n",
      " 0   date       29244 non-null  object        \n",
      " 1   time       29244 non-null  object        \n",
      " 2   code       29244 non-null  int64         \n",
      " 3   value      29244 non-null  int64         \n",
      " 4   patient    29244 non-null  int8          \n",
      " 5   timestamp  29244 non-null  datetime64[ns]\n",
      "dtypes: datetime64[ns](1), int64(2), int8(1), object(2)\n",
      "memory usage: 1.4+ MB\n",
      "None\n"
     ]
    }
   ],
   "source": [
    "# create timestamp variable (timeseries) and drop invalid date formats\n",
    "data['timestamp'] = pd.to_datetime(data['date'] + ' ' + data['time'], errors='coerce')\n",
    "print(missing_cols(data))\n",
    "print(perc_missing(data))\n",
    "print(\" \")\n",
    "data = data.dropna()\n",
    "print(data.info())"
   ]
  },
  {
   "cell_type": "markdown",
   "metadata": {},
   "source": [
    "Dropping the numeric values with a wrong format, beacause there are so few of them. Mostly they are just dates where the user clearly inputted the wrong format (i.e. month and day inversed or time = 188:00)"
   ]
  },
  {
   "cell_type": "code",
   "execution_count": 6,
   "metadata": {},
   "outputs": [
    {
     "data": {
      "text/html": [
       "<div>\n",
       "<style scoped>\n",
       "    .dataframe tbody tr th:only-of-type {\n",
       "        vertical-align: middle;\n",
       "    }\n",
       "\n",
       "    .dataframe tbody tr th {\n",
       "        vertical-align: top;\n",
       "    }\n",
       "\n",
       "    .dataframe thead th {\n",
       "        text-align: right;\n",
       "    }\n",
       "</style>\n",
       "<table border=\"1\" class=\"dataframe\">\n",
       "  <thead>\n",
       "    <tr style=\"text-align: right;\">\n",
       "      <th></th>\n",
       "      <th>patient</th>\n",
       "      <th>timestamp</th>\n",
       "      <th>time</th>\n",
       "      <th>code</th>\n",
       "      <th>value</th>\n",
       "    </tr>\n",
       "  </thead>\n",
       "  <tbody>\n",
       "    <tr>\n",
       "      <th>0</th>\n",
       "      <td>1</td>\n",
       "      <td>1991-04-21 09:09:00</td>\n",
       "      <td>[9:09, 9:09, 9:09]</td>\n",
       "      <td>[58, 33, 34]</td>\n",
       "      <td>[100, 9, 13]</td>\n",
       "    </tr>\n",
       "    <tr>\n",
       "      <th>1</th>\n",
       "      <td>1</td>\n",
       "      <td>1991-04-21 17:08:00</td>\n",
       "      <td>[17:08, 17:08]</td>\n",
       "      <td>[62, 33]</td>\n",
       "      <td>[119, 7]</td>\n",
       "    </tr>\n",
       "    <tr>\n",
       "      <th>2</th>\n",
       "      <td>1</td>\n",
       "      <td>1991-04-21 22:51:00</td>\n",
       "      <td>[22:51]</td>\n",
       "      <td>[48]</td>\n",
       "      <td>[123]</td>\n",
       "    </tr>\n",
       "    <tr>\n",
       "      <th>3</th>\n",
       "      <td>1</td>\n",
       "      <td>1991-04-22 07:35:00</td>\n",
       "      <td>[7:35, 7:35, 7:35]</td>\n",
       "      <td>[58, 33, 34]</td>\n",
       "      <td>[216, 10, 13]</td>\n",
       "    </tr>\n",
       "    <tr>\n",
       "      <th>4</th>\n",
       "      <td>1</td>\n",
       "      <td>1991-04-22 13:40:00</td>\n",
       "      <td>[13:40]</td>\n",
       "      <td>[33]</td>\n",
       "      <td>[2]</td>\n",
       "    </tr>\n",
       "  </tbody>\n",
       "</table>\n",
       "</div>"
      ],
      "text/plain": [
       "   patient           timestamp                time          code  \\\n",
       "0        1 1991-04-21 09:09:00  [9:09, 9:09, 9:09]  [58, 33, 34]   \n",
       "1        1 1991-04-21 17:08:00      [17:08, 17:08]      [62, 33]   \n",
       "2        1 1991-04-21 22:51:00             [22:51]          [48]   \n",
       "3        1 1991-04-22 07:35:00  [7:35, 7:35, 7:35]  [58, 33, 34]   \n",
       "4        1 1991-04-22 13:40:00             [13:40]          [33]   \n",
       "\n",
       "           value  \n",
       "0   [100, 9, 13]  \n",
       "1       [119, 7]  \n",
       "2          [123]  \n",
       "3  [216, 10, 13]  \n",
       "4            [2]  "
      ]
     },
     "execution_count": 6,
     "metadata": {},
     "output_type": "execute_result"
    }
   ],
   "source": [
    "# grouping the data by patient and timestamp\n",
    "data = data.groupby(['patient', 'timestamp'], as_index=False).agg({\"time\":list, \"code\":list, \"value\":list})\n",
    "data.head()"
   ]
  },
  {
   "cell_type": "code",
   "execution_count": 7,
   "metadata": {},
   "outputs": [],
   "source": [
    "#data2 = data.groupby(pd.Grouper(key='timestamp', freq='5Min')).agg({\"time\":list, \"code\":list, \"value\":list})\n",
    "#data2.dropna()\n",
    "#data2\n",
    "\n",
    "#agg_10m = df.groupby(pd.Grouper(freq='10Min')).aggregate(numpy.sum)"
   ]
  },
  {
   "cell_type": "code",
   "execution_count": 8,
   "metadata": {},
   "outputs": [
    {
     "data": {
      "text/html": [
       "<div>\n",
       "<style scoped>\n",
       "    .dataframe tbody tr th:only-of-type {\n",
       "        vertical-align: middle;\n",
       "    }\n",
       "\n",
       "    .dataframe tbody tr th {\n",
       "        vertical-align: top;\n",
       "    }\n",
       "\n",
       "    .dataframe thead th {\n",
       "        text-align: right;\n",
       "    }\n",
       "</style>\n",
       "<table border=\"1\" class=\"dataframe\">\n",
       "  <thead>\n",
       "    <tr style=\"text-align: right;\">\n",
       "      <th></th>\n",
       "      <th>patient</th>\n",
       "      <th>timestamp</th>\n",
       "      <th>time</th>\n",
       "      <th>code</th>\n",
       "      <th>value</th>\n",
       "      <th>cleaned_code</th>\n",
       "    </tr>\n",
       "  </thead>\n",
       "  <tbody>\n",
       "    <tr>\n",
       "      <th>0</th>\n",
       "      <td>1</td>\n",
       "      <td>1991-04-21 09:09:00</td>\n",
       "      <td>549</td>\n",
       "      <td>[58, 33, 34]</td>\n",
       "      <td>[100, 9, 13]</td>\n",
       "      <td>34</td>\n",
       "    </tr>\n",
       "    <tr>\n",
       "      <th>1</th>\n",
       "      <td>1</td>\n",
       "      <td>1991-04-21 17:08:00</td>\n",
       "      <td>1028</td>\n",
       "      <td>[62, 33]</td>\n",
       "      <td>[119, 7]</td>\n",
       "      <td>33</td>\n",
       "    </tr>\n",
       "    <tr>\n",
       "      <th>2</th>\n",
       "      <td>1</td>\n",
       "      <td>1991-04-21 22:51:00</td>\n",
       "      <td>1371</td>\n",
       "      <td>[48]</td>\n",
       "      <td>[123]</td>\n",
       "      <td>48</td>\n",
       "    </tr>\n",
       "    <tr>\n",
       "      <th>3</th>\n",
       "      <td>1</td>\n",
       "      <td>1991-04-22 07:35:00</td>\n",
       "      <td>455</td>\n",
       "      <td>[58, 33, 34]</td>\n",
       "      <td>[216, 10, 13]</td>\n",
       "      <td>34</td>\n",
       "    </tr>\n",
       "    <tr>\n",
       "      <th>4</th>\n",
       "      <td>1</td>\n",
       "      <td>1991-04-22 13:40:00</td>\n",
       "      <td>820</td>\n",
       "      <td>[33]</td>\n",
       "      <td>[2]</td>\n",
       "      <td>33</td>\n",
       "    </tr>\n",
       "  </tbody>\n",
       "</table>\n",
       "</div>"
      ],
      "text/plain": [
       "   patient           timestamp  time          code          value  \\\n",
       "0        1 1991-04-21 09:09:00   549  [58, 33, 34]   [100, 9, 13]   \n",
       "1        1 1991-04-21 17:08:00  1028      [62, 33]       [119, 7]   \n",
       "2        1 1991-04-21 22:51:00  1371          [48]          [123]   \n",
       "3        1 1991-04-22 07:35:00   455  [58, 33, 34]  [216, 10, 13]   \n",
       "4        1 1991-04-22 13:40:00   820          [33]            [2]   \n",
       "\n",
       "   cleaned_code  \n",
       "0            34  \n",
       "1            33  \n",
       "2            48  \n",
       "3            34  \n",
       "4            33  "
      ]
     },
     "execution_count": 8,
     "metadata": {},
     "output_type": "execute_result"
    }
   ],
   "source": [
    "#convert time column into mins\n",
    "data['time'] = data['timestamp'].apply(lambda x: x.hour*60 + x.minute)\n",
    "\n",
    "# take codes out of the list in the code category\n",
    "data['cleaned_code'] = data['code'].apply(lambda x: x[-1]) #x[-1] seems to give out better model than x[0]\n",
    "\n",
    "data.head()"
   ]
  },
  {
   "cell_type": "code",
   "execution_count": 9,
   "metadata": {},
   "outputs": [
    {
     "name": "stdout",
     "output_type": "stream",
     "text": [
      "code_glucose => 4802\n",
      "glucose => 4802\n",
      "code_insulin => 8065\n",
      "insulin => 8065\n",
      "hypo_symptoms => 17991\n",
      "code_meal => 17807\n",
      "meal => 17807\n",
      "other => 18225\n",
      "code_exercise => 18014\n",
      "exercise => 18014\n",
      "None\n"
     ]
    }
   ],
   "source": [
    "# part not so relevant for the assignement, but important if we want to improve the model\n",
    "# code arrays\n",
    "codes_exercise = [69, 70, 71]\n",
    "codes_insulin = [33, 34, 35]\n",
    "codes_glucose_measurement = [48, 57, 58, 59, 60, 61, 62, 63, 64]\n",
    "codes_meals = [66, 67, 68]\n",
    "codes_other = [65, 72]\n",
    "\n",
    "\n",
    "for data_index, codes in enumerate(data[\"code\"]):\n",
    "    counter = 0 \n",
    "\n",
    "    for code in codes: #[row, column]\n",
    "\n",
    "        if code in codes_meals:\n",
    "            data.loc[data_index, 'code_meal'] = code\n",
    "            if code == 66: #typical meal\n",
    "                data.loc[data_index, 'meal'] = 2\n",
    "            if code == 67: #more than normal meal\n",
    "                data.loc[data_index, 'meal'] = 3\n",
    "            if code == 68: #less than normal meal\n",
    "                data.loc[data_index, 'meal'] = 1\n",
    "\n",
    "        elif code == 65:\n",
    "            data.loc[data_index, 'hypo_symptoms'] = 1 # 1 = true, 0 = false\n",
    "        elif code == 72:\n",
    "            data.loc[data_index, 'other'] = 1 # 1 = true, 0 = false\n",
    "        \n",
    "        elif code in codes_exercise:\n",
    "            data.loc[data_index, 'code_exercise'] = code\n",
    "            if code == 69: #typical exercise activity\n",
    "                data.loc[data_index, 'exercise'] = 2\n",
    "            if code == 70: #more than normal ex activity\n",
    "                data.loc[data_index, 'exercise'] = 3\n",
    "            if code == 71: #less than normal ex activity\n",
    "                data.loc[data_index, 'exercise'] = 1\n",
    "\n",
    "        elif code in codes_insulin:\n",
    "            data.loc[data_index, 'code_insulin'] = code\n",
    "            data.loc[data_index, 'insulin'] = data[\"value\"][data_index][counter]\n",
    "\n",
    "        elif code in codes_glucose_measurement:\n",
    "            data.loc[data_index, 'code_glucose'] = code\n",
    "            data.loc[data_index, 'glucose'] = data[\"value\"][data_index][counter]\n",
    "\n",
    "        counter=+1\n",
    "\n",
    "print(missing_cols(data))"
   ]
  },
  {
   "cell_type": "code",
   "execution_count": 10,
   "metadata": {},
   "outputs": [],
   "source": [
    "#drop columns code, value and patient\n",
    "data = data.drop(columns=['code', 'value', 'patient'])"
   ]
  },
  {
   "cell_type": "code",
   "execution_count": 11,
   "metadata": {},
   "outputs": [
    {
     "name": "stdout",
     "output_type": "stream",
     "text": [
      "               timestamp  time  cleaned_code  code_glucose  glucose  \\\n",
      "961  1990-08-01 16:28:00   988            62          62.0      0.0   \n",
      "1977 1990-05-01 00:10:00    10            64          64.0      0.0   \n",
      "\n",
      "      code_insulin  insulin  hypo_symptoms  code_meal  meal  other  \\\n",
      "961            NaN      NaN            1.0        NaN   NaN    NaN   \n",
      "1977           NaN      NaN            NaN        NaN   NaN    NaN   \n",
      "\n",
      "      code_exercise  exercise  \n",
      "961             NaN       NaN  \n",
      "1977            NaN       NaN  \n"
     ]
    }
   ],
   "source": [
    "# check for unrealistic values of blood glucose\n",
    "print(data[data.glucose < 5])\n",
    "# drop all rows that have blood glucose = 0\n",
    "data = data[data.glucose != 0]"
   ]
  },
  {
   "cell_type": "markdown",
   "metadata": {},
   "source": [
    "dropping the 2 values with a blood glucose of 0, because the values are unrealistic"
   ]
  },
  {
   "cell_type": "code",
   "execution_count": 12,
   "metadata": {},
   "outputs": [
    {
     "data": {
      "text/html": [
       "<div>\n",
       "<style scoped>\n",
       "    .dataframe tbody tr th:only-of-type {\n",
       "        vertical-align: middle;\n",
       "    }\n",
       "\n",
       "    .dataframe tbody tr th {\n",
       "        vertical-align: top;\n",
       "    }\n",
       "\n",
       "    .dataframe thead th {\n",
       "        text-align: right;\n",
       "    }\n",
       "</style>\n",
       "<table border=\"1\" class=\"dataframe\">\n",
       "  <thead>\n",
       "    <tr style=\"text-align: right;\">\n",
       "      <th></th>\n",
       "      <th>timestamp</th>\n",
       "      <th>time</th>\n",
       "      <th>cleaned_code</th>\n",
       "      <th>code_glucose</th>\n",
       "      <th>glucose</th>\n",
       "      <th>code_insulin</th>\n",
       "      <th>insulin</th>\n",
       "      <th>hypo_symptoms</th>\n",
       "      <th>code_meal</th>\n",
       "      <th>meal</th>\n",
       "      <th>other</th>\n",
       "      <th>code_exercise</th>\n",
       "      <th>exercise</th>\n",
       "    </tr>\n",
       "  </thead>\n",
       "  <tbody>\n",
       "    <tr>\n",
       "      <th>0</th>\n",
       "      <td>1991-04-21 09:09:00</td>\n",
       "      <td>549</td>\n",
       "      <td>34</td>\n",
       "      <td>58.0</td>\n",
       "      <td>100.0</td>\n",
       "      <td>34.0</td>\n",
       "      <td>9.0</td>\n",
       "      <td>0.0</td>\n",
       "      <td>0.0</td>\n",
       "      <td>0.0</td>\n",
       "      <td>0.0</td>\n",
       "      <td>0.0</td>\n",
       "      <td>0.0</td>\n",
       "    </tr>\n",
       "    <tr>\n",
       "      <th>1</th>\n",
       "      <td>1991-04-21 17:08:00</td>\n",
       "      <td>1028</td>\n",
       "      <td>33</td>\n",
       "      <td>62.0</td>\n",
       "      <td>119.0</td>\n",
       "      <td>33.0</td>\n",
       "      <td>7.0</td>\n",
       "      <td>0.0</td>\n",
       "      <td>0.0</td>\n",
       "      <td>0.0</td>\n",
       "      <td>0.0</td>\n",
       "      <td>0.0</td>\n",
       "      <td>0.0</td>\n",
       "    </tr>\n",
       "    <tr>\n",
       "      <th>2</th>\n",
       "      <td>1991-04-21 22:51:00</td>\n",
       "      <td>1371</td>\n",
       "      <td>48</td>\n",
       "      <td>48.0</td>\n",
       "      <td>123.0</td>\n",
       "      <td>0.0</td>\n",
       "      <td>0.0</td>\n",
       "      <td>0.0</td>\n",
       "      <td>0.0</td>\n",
       "      <td>0.0</td>\n",
       "      <td>0.0</td>\n",
       "      <td>0.0</td>\n",
       "      <td>0.0</td>\n",
       "    </tr>\n",
       "    <tr>\n",
       "      <th>3</th>\n",
       "      <td>1991-04-22 07:35:00</td>\n",
       "      <td>455</td>\n",
       "      <td>34</td>\n",
       "      <td>58.0</td>\n",
       "      <td>216.0</td>\n",
       "      <td>34.0</td>\n",
       "      <td>10.0</td>\n",
       "      <td>0.0</td>\n",
       "      <td>0.0</td>\n",
       "      <td>0.0</td>\n",
       "      <td>0.0</td>\n",
       "      <td>0.0</td>\n",
       "      <td>0.0</td>\n",
       "    </tr>\n",
       "    <tr>\n",
       "      <th>4</th>\n",
       "      <td>1991-04-22 13:40:00</td>\n",
       "      <td>820</td>\n",
       "      <td>33</td>\n",
       "      <td>0.0</td>\n",
       "      <td>0.0</td>\n",
       "      <td>33.0</td>\n",
       "      <td>2.0</td>\n",
       "      <td>0.0</td>\n",
       "      <td>0.0</td>\n",
       "      <td>0.0</td>\n",
       "      <td>0.0</td>\n",
       "      <td>0.0</td>\n",
       "      <td>0.0</td>\n",
       "    </tr>\n",
       "  </tbody>\n",
       "</table>\n",
       "</div>"
      ],
      "text/plain": [
       "            timestamp  time  cleaned_code  code_glucose  glucose  \\\n",
       "0 1991-04-21 09:09:00   549            34          58.0    100.0   \n",
       "1 1991-04-21 17:08:00  1028            33          62.0    119.0   \n",
       "2 1991-04-21 22:51:00  1371            48          48.0    123.0   \n",
       "3 1991-04-22 07:35:00   455            34          58.0    216.0   \n",
       "4 1991-04-22 13:40:00   820            33           0.0      0.0   \n",
       "\n",
       "   code_insulin  insulin  hypo_symptoms  code_meal  meal  other  \\\n",
       "0          34.0      9.0            0.0        0.0   0.0    0.0   \n",
       "1          33.0      7.0            0.0        0.0   0.0    0.0   \n",
       "2           0.0      0.0            0.0        0.0   0.0    0.0   \n",
       "3          34.0     10.0            0.0        0.0   0.0    0.0   \n",
       "4          33.0      2.0            0.0        0.0   0.0    0.0   \n",
       "\n",
       "   code_exercise  exercise  \n",
       "0            0.0       0.0  \n",
       "1            0.0       0.0  \n",
       "2            0.0       0.0  \n",
       "3            0.0       0.0  \n",
       "4            0.0       0.0  "
      ]
     },
     "execution_count": 12,
     "metadata": {},
     "output_type": "execute_result"
    }
   ],
   "source": [
    "#filling code values with 0 (where 0 ≃ false)\n",
    "data = data.fillna(0)\n",
    "data.head()"
   ]
  },
  {
   "cell_type": "code",
   "execution_count": 13,
   "metadata": {},
   "outputs": [
    {
     "data": {
      "text/html": [
       "<div>\n",
       "<style scoped>\n",
       "    .dataframe tbody tr th:only-of-type {\n",
       "        vertical-align: middle;\n",
       "    }\n",
       "\n",
       "    .dataframe tbody tr th {\n",
       "        vertical-align: top;\n",
       "    }\n",
       "\n",
       "    .dataframe thead th {\n",
       "        text-align: right;\n",
       "    }\n",
       "</style>\n",
       "<table border=\"1\" class=\"dataframe\">\n",
       "  <thead>\n",
       "    <tr style=\"text-align: right;\">\n",
       "      <th></th>\n",
       "      <th>timestamp</th>\n",
       "      <th>time</th>\n",
       "      <th>cleaned_code</th>\n",
       "      <th>code_glucose</th>\n",
       "      <th>glucose</th>\n",
       "      <th>code_insulin</th>\n",
       "      <th>insulin</th>\n",
       "      <th>hypo_symptoms</th>\n",
       "      <th>code_meal</th>\n",
       "      <th>meal</th>\n",
       "      <th>other</th>\n",
       "      <th>code_exercise</th>\n",
       "      <th>exercise</th>\n",
       "    </tr>\n",
       "  </thead>\n",
       "  <tbody>\n",
       "    <tr>\n",
       "      <th>0</th>\n",
       "      <td>1991-04-21 09:09:00</td>\n",
       "      <td>549</td>\n",
       "      <td>34</td>\n",
       "      <td>58.0</td>\n",
       "      <td>100.0</td>\n",
       "      <td>34.0</td>\n",
       "      <td>9.0</td>\n",
       "      <td>0.0</td>\n",
       "      <td>0.0</td>\n",
       "      <td>0.0</td>\n",
       "      <td>0.0</td>\n",
       "      <td>0.0</td>\n",
       "      <td>0.0</td>\n",
       "    </tr>\n",
       "    <tr>\n",
       "      <th>1</th>\n",
       "      <td>1991-04-21 17:08:00</td>\n",
       "      <td>1028</td>\n",
       "      <td>33</td>\n",
       "      <td>62.0</td>\n",
       "      <td>119.0</td>\n",
       "      <td>33.0</td>\n",
       "      <td>7.0</td>\n",
       "      <td>0.0</td>\n",
       "      <td>0.0</td>\n",
       "      <td>0.0</td>\n",
       "      <td>0.0</td>\n",
       "      <td>0.0</td>\n",
       "      <td>0.0</td>\n",
       "    </tr>\n",
       "    <tr>\n",
       "      <th>2</th>\n",
       "      <td>1991-04-21 22:51:00</td>\n",
       "      <td>1371</td>\n",
       "      <td>57</td>\n",
       "      <td>48.0</td>\n",
       "      <td>123.0</td>\n",
       "      <td>0.0</td>\n",
       "      <td>0.0</td>\n",
       "      <td>0.0</td>\n",
       "      <td>0.0</td>\n",
       "      <td>0.0</td>\n",
       "      <td>0.0</td>\n",
       "      <td>0.0</td>\n",
       "      <td>0.0</td>\n",
       "    </tr>\n",
       "    <tr>\n",
       "      <th>3</th>\n",
       "      <td>1991-04-22 07:35:00</td>\n",
       "      <td>455</td>\n",
       "      <td>34</td>\n",
       "      <td>58.0</td>\n",
       "      <td>216.0</td>\n",
       "      <td>34.0</td>\n",
       "      <td>10.0</td>\n",
       "      <td>0.0</td>\n",
       "      <td>0.0</td>\n",
       "      <td>0.0</td>\n",
       "      <td>0.0</td>\n",
       "      <td>0.0</td>\n",
       "      <td>0.0</td>\n",
       "    </tr>\n",
       "    <tr>\n",
       "      <th>4</th>\n",
       "      <td>1991-04-22 13:40:00</td>\n",
       "      <td>820</td>\n",
       "      <td>33</td>\n",
       "      <td>0.0</td>\n",
       "      <td>NaN</td>\n",
       "      <td>33.0</td>\n",
       "      <td>2.0</td>\n",
       "      <td>0.0</td>\n",
       "      <td>0.0</td>\n",
       "      <td>0.0</td>\n",
       "      <td>0.0</td>\n",
       "      <td>0.0</td>\n",
       "      <td>0.0</td>\n",
       "    </tr>\n",
       "  </tbody>\n",
       "</table>\n",
       "</div>"
      ],
      "text/plain": [
       "            timestamp  time  cleaned_code  code_glucose  glucose  \\\n",
       "0 1991-04-21 09:09:00   549            34          58.0    100.0   \n",
       "1 1991-04-21 17:08:00  1028            33          62.0    119.0   \n",
       "2 1991-04-21 22:51:00  1371            57          48.0    123.0   \n",
       "3 1991-04-22 07:35:00   455            34          58.0    216.0   \n",
       "4 1991-04-22 13:40:00   820            33           0.0      NaN   \n",
       "\n",
       "   code_insulin  insulin  hypo_symptoms  code_meal  meal  other  \\\n",
       "0          34.0      9.0            0.0        0.0   0.0    0.0   \n",
       "1          33.0      7.0            0.0        0.0   0.0    0.0   \n",
       "2           0.0      0.0            0.0        0.0   0.0    0.0   \n",
       "3          34.0     10.0            0.0        0.0   0.0    0.0   \n",
       "4          33.0      2.0            0.0        0.0   0.0    0.0   \n",
       "\n",
       "   code_exercise  exercise  \n",
       "0            0.0       0.0  \n",
       "1            0.0       0.0  \n",
       "2            0.0       0.0  \n",
       "3            0.0       0.0  \n",
       "4            0.0       0.0  "
      ]
     },
     "execution_count": 13,
     "metadata": {},
     "output_type": "execute_result"
    }
   ],
   "source": [
    "# put NaNs back to glucose column, needed later to interpolate missing values\n",
    "data['glucose'] = data['glucose'].replace(0, np.nan)\n",
    "\n",
    "#replace code 48 with 57, because both codes mean the same thing\n",
    "data['code_meal'] = data['code_meal'].replace(48, 57)\n",
    "data['cleaned_code'] = data['cleaned_code'].replace(48, 57)\n",
    "data.head()"
   ]
  },
  {
   "cell_type": "code",
   "execution_count": 14,
   "metadata": {},
   "outputs": [
    {
     "name": "stdout",
     "output_type": "stream",
     "text": [
      "<class 'pandas.core.frame.DataFrame'>\n",
      "Int64Index: 18317 entries, 0 to 18318\n",
      "Data columns (total 13 columns):\n",
      " #   Column         Non-Null Count  Dtype         \n",
      "---  ------         --------------  -----         \n",
      " 0   timestamp      18317 non-null  datetime64[ns]\n",
      " 1   time           18317 non-null  int64         \n",
      " 2   cleaned_code   18317 non-null  category      \n",
      " 3   code_glucose   18317 non-null  category      \n",
      " 4   glucose        13515 non-null  float64       \n",
      " 5   code_insulin   18317 non-null  category      \n",
      " 6   insulin        18317 non-null  int64         \n",
      " 7   hypo_symptoms  18317 non-null  category      \n",
      " 8   code_meal      18317 non-null  category      \n",
      " 9   meal           18317 non-null  category      \n",
      " 10  other          18317 non-null  category      \n",
      " 11  code_exercise  18317 non-null  category      \n",
      " 12  exercise       18317 non-null  category      \n",
      "dtypes: category(9), datetime64[ns](1), float64(1), int64(2)\n",
      "memory usage: 878.8 KB\n"
     ]
    }
   ],
   "source": [
    "# change type of columns --> saves memory and space\n",
    "cols_cat = ['code_glucose', 'code_insulin', 'cleaned_code', 'other', 'hypo_symptoms',\n",
    "            'code_meal','meal', 'code_exercise', 'exercise']\n",
    "cols_int = ['insulin']\n",
    "data[cols_int] = data[cols_int].astype(int)\n",
    "data[cols_cat] = data[cols_cat].astype('category')\n",
    "data.info()"
   ]
  },
  {
   "cell_type": "code",
   "execution_count": 15,
   "metadata": {},
   "outputs": [
    {
     "name": "stdout",
     "output_type": "stream",
     "text": [
      "glucose => 4802\n",
      "None\n",
      "----\n",
      "glucose => 26.22%\n",
      "None\n"
     ]
    }
   ],
   "source": [
    "print(missing_cols(data))\n",
    "print(\"----\")\n",
    "print(perc_missing(data))"
   ]
  },
  {
   "cell_type": "markdown",
   "metadata": {},
   "source": [
    "A lot of missing glucose values --> needs to be somewhat dealt with, before creating a model"
   ]
  },
  {
   "cell_type": "code",
   "execution_count": 16,
   "metadata": {},
   "outputs": [],
   "source": [
    "# turn exercise codes into new exercise column\n",
    "#conditions = [(data['code'] == 69), (data['code'] == 70), (data['code'] == 71)]\n",
    "#choices = [2, 3, 1] #1 = less than normal, 2 = typical, 3 = more than normal\n",
    "#data['exercise'] = np.select(conditions, choices, default=0)\n",
    "    \n",
    "#data"
   ]
  },
  {
   "cell_type": "code",
   "execution_count": 17,
   "metadata": {},
   "outputs": [],
   "source": [
    "#data['daily_exercise'] = data.groupby(['date','patient'])[\"exercise\"].transform('max')\n",
    "#data"
   ]
  },
  {
   "cell_type": "code",
   "execution_count": 18,
   "metadata": {},
   "outputs": [],
   "source": [
    "#data['blood_glucose'] = data.groupby(['timestamp','patient'])[\"blood_glucose\"].transform('max')\n",
    "#data['blood_glucose'] = data['blood_glucose'].replace(0, np.nan)\n",
    "\n",
    "#idx = data.groupby(['date', 'time', 'patient'])['blood_glucose'].transform(max) == data['blood_glucose']\n",
    "#data = data[idx]\n",
    "\n",
    "#data"
   ]
  },
  {
   "cell_type": "code",
   "execution_count": 36,
   "metadata": {},
   "outputs": [
    {
     "data": {
      "text/plain": [
       "Text(0.5, 1.0, 'Repartition of blood glucose values')"
      ]
     },
     "execution_count": 36,
     "metadata": {},
     "output_type": "execute_result"
    },
    {
     "data": {
      "image/png": "[encoded data removed]",
      "text/plain": [
       "<Figure size 720x432 with 1 Axes>"
      ]
     },
     "metadata": {
      "needs_background": "light"
     },
     "output_type": "display_data"
    }
   ],
   "source": [
    "# plot repatition of blood glucose values\n",
    "plt.figure(figsize=(10, 6))\n",
    "data['glucose'].hist(bins=100)\n",
    "plt.xlabel('blood glucose value')\n",
    "plt.ylabel('instances')\n",
    "plt.title('Repartition of blood glucose values')"
   ]
  },
  {
   "cell_type": "markdown",
   "metadata": {},
   "source": [
    "<h1>Imputing values / dealing with NaNs </h1>"
   ]
  },
  {
   "cell_type": "markdown",
   "metadata": {},
   "source": [
    "There are a lot missing values in the glucose column (about 26%), cannot just be erased from the dataframe.\n",
    "NaNs cannot be used in the model."
   ]
  },
  {
   "cell_type": "code",
   "execution_count": 20,
   "metadata": {},
   "outputs": [
    {
     "data": {
      "text/html": [
       "<div>\n",
       "<style scoped>\n",
       "    .dataframe tbody tr th:only-of-type {\n",
       "        vertical-align: middle;\n",
       "    }\n",
       "\n",
       "    .dataframe tbody tr th {\n",
       "        vertical-align: top;\n",
       "    }\n",
       "\n",
       "    .dataframe thead th {\n",
       "        text-align: right;\n",
       "    }\n",
       "</style>\n",
       "<table border=\"1\" class=\"dataframe\">\n",
       "  <thead>\n",
       "    <tr style=\"text-align: right;\">\n",
       "      <th></th>\n",
       "      <th>timestamp</th>\n",
       "      <th>time</th>\n",
       "      <th>cleaned_code</th>\n",
       "      <th>code_glucose</th>\n",
       "      <th>glucose</th>\n",
       "      <th>code_insulin</th>\n",
       "      <th>insulin</th>\n",
       "      <th>hypo_symptoms</th>\n",
       "      <th>code_meal</th>\n",
       "      <th>meal</th>\n",
       "      <th>other</th>\n",
       "      <th>code_exercise</th>\n",
       "      <th>exercise</th>\n",
       "    </tr>\n",
       "  </thead>\n",
       "  <tbody>\n",
       "    <tr>\n",
       "      <th>0</th>\n",
       "      <td>1991-04-21 09:09:00</td>\n",
       "      <td>549</td>\n",
       "      <td>34</td>\n",
       "      <td>58.0</td>\n",
       "      <td>100.0</td>\n",
       "      <td>34.0</td>\n",
       "      <td>9</td>\n",
       "      <td>0.0</td>\n",
       "      <td>0.0</td>\n",
       "      <td>0.0</td>\n",
       "      <td>0.0</td>\n",
       "      <td>0.0</td>\n",
       "      <td>0.0</td>\n",
       "    </tr>\n",
       "    <tr>\n",
       "      <th>1</th>\n",
       "      <td>1991-04-21 17:08:00</td>\n",
       "      <td>1028</td>\n",
       "      <td>33</td>\n",
       "      <td>62.0</td>\n",
       "      <td>119.0</td>\n",
       "      <td>33.0</td>\n",
       "      <td>7</td>\n",
       "      <td>0.0</td>\n",
       "      <td>0.0</td>\n",
       "      <td>0.0</td>\n",
       "      <td>0.0</td>\n",
       "      <td>0.0</td>\n",
       "      <td>0.0</td>\n",
       "    </tr>\n",
       "    <tr>\n",
       "      <th>2</th>\n",
       "      <td>1991-04-21 22:51:00</td>\n",
       "      <td>1371</td>\n",
       "      <td>57</td>\n",
       "      <td>48.0</td>\n",
       "      <td>123.0</td>\n",
       "      <td>0.0</td>\n",
       "      <td>0</td>\n",
       "      <td>0.0</td>\n",
       "      <td>0.0</td>\n",
       "      <td>0.0</td>\n",
       "      <td>0.0</td>\n",
       "      <td>0.0</td>\n",
       "      <td>0.0</td>\n",
       "    </tr>\n",
       "    <tr>\n",
       "      <th>3</th>\n",
       "      <td>1991-04-22 07:35:00</td>\n",
       "      <td>455</td>\n",
       "      <td>34</td>\n",
       "      <td>58.0</td>\n",
       "      <td>216.0</td>\n",
       "      <td>34.0</td>\n",
       "      <td>10</td>\n",
       "      <td>0.0</td>\n",
       "      <td>0.0</td>\n",
       "      <td>0.0</td>\n",
       "      <td>0.0</td>\n",
       "      <td>0.0</td>\n",
       "      <td>0.0</td>\n",
       "    </tr>\n",
       "    <tr>\n",
       "      <th>4</th>\n",
       "      <td>1991-04-22 13:40:00</td>\n",
       "      <td>820</td>\n",
       "      <td>33</td>\n",
       "      <td>0.0</td>\n",
       "      <td>213.5</td>\n",
       "      <td>33.0</td>\n",
       "      <td>2</td>\n",
       "      <td>0.0</td>\n",
       "      <td>0.0</td>\n",
       "      <td>0.0</td>\n",
       "      <td>0.0</td>\n",
       "      <td>0.0</td>\n",
       "      <td>0.0</td>\n",
       "    </tr>\n",
       "  </tbody>\n",
       "</table>\n",
       "</div>"
      ],
      "text/plain": [
       "            timestamp  time cleaned_code code_glucose  glucose code_insulin  \\\n",
       "0 1991-04-21 09:09:00   549           34         58.0    100.0         34.0   \n",
       "1 1991-04-21 17:08:00  1028           33         62.0    119.0         33.0   \n",
       "2 1991-04-21 22:51:00  1371           57         48.0    123.0          0.0   \n",
       "3 1991-04-22 07:35:00   455           34         58.0    216.0         34.0   \n",
       "4 1991-04-22 13:40:00   820           33          0.0    213.5         33.0   \n",
       "\n",
       "   insulin hypo_symptoms code_meal meal other code_exercise exercise  \n",
       "0        9           0.0       0.0  0.0   0.0           0.0      0.0  \n",
       "1        7           0.0       0.0  0.0   0.0           0.0      0.0  \n",
       "2        0           0.0       0.0  0.0   0.0           0.0      0.0  \n",
       "3       10           0.0       0.0  0.0   0.0           0.0      0.0  \n",
       "4        2           0.0       0.0  0.0   0.0           0.0      0.0  "
      ]
     },
     "execution_count": 20,
     "metadata": {},
     "output_type": "execute_result"
    }
   ],
   "source": [
    "from sklearn.impute import SimpleImputer\n",
    "\n",
    "# Create our imputer to replace missing values with the mean e.g.\n",
    "#imp = SimpleImputer(missing_values=np.nan, strategy='mean')\n",
    "#imp = imp.fit(X_train)\n",
    "\n",
    "# Impute our data, then train\n",
    "#X_train_imp = imp.transform(X_train)\n",
    "\n",
    "#data['glucose'] = data['glucose'].interpolate(method='polynomial', order=3) #order 2 & 3 gives out negative glucose values\n",
    "data['glucose'] = data['glucose'].interpolate(method='linear')\n",
    "#data['glucose'] = data['glucose'].interpolate(key='timestamp', method='time')\n",
    "data.head()"
   ]
  },
  {
   "cell_type": "markdown",
   "metadata": {},
   "source": [
    "Ways to deal with missing values. <br>\n",
    "<ul>\n",
    "    <li>polynomial interpolation --> 2nd and 3rd degree give out some negative glucose values --> unrealistic</li>\n",
    "    <li>linear interpolation</li>\n",
    "</ul>"
   ]
  },
  {
   "cell_type": "code",
   "execution_count": 21,
   "metadata": {},
   "outputs": [
    {
     "name": "stdout",
     "output_type": "stream",
     "text": [
      "no missing values left\n",
      "None\n",
      "None\n"
     ]
    }
   ],
   "source": [
    "print(missing_cols(data))\n",
    "print(perc_missing(data))"
   ]
  },
  {
   "cell_type": "markdown",
   "metadata": {},
   "source": [
    "<h1>Data splitting </h1>"
   ]
  },
  {
   "cell_type": "code",
   "execution_count": 22,
   "metadata": {},
   "outputs": [],
   "source": [
    "data = data.dropna()\n",
    "\n",
    "#X = data[['time', 'cleaned_code']]\n",
    "y = data['glucose']\n",
    "\n",
    "# Assign feature variables\n",
    "X1 = data.time\n",
    "X2 = pd.get_dummies(data.cleaned_code)\n",
    "# Drop unspecified to avoid collinearity (Dummy trap)\n",
    "#X2 = X2.drop(columns = 'Unspecified measurement')\n",
    "# Merge time and  code into one array\n",
    "X = np.c_[X1, X2]\n"
   ]
  },
  {
   "cell_type": "code",
   "execution_count": 23,
   "metadata": {},
   "outputs": [],
   "source": [
    "# train-test splitting of data\n",
    "from sklearn.model_selection import train_test_split\n",
    "X_train, X_test, y_train, y_test = train_test_split(X, y, test_size = 0.33, random_state=1)"
   ]
  },
  {
   "cell_type": "markdown",
   "metadata": {},
   "source": [
    "<h1>Model</h1>"
   ]
  },
  {
   "cell_type": "code",
   "execution_count": 24,
   "metadata": {},
   "outputs": [
    {
     "data": {
      "text/plain": [
       "RandomForestRegressor(random_state=1)"
      ]
     },
     "execution_count": 24,
     "metadata": {},
     "output_type": "execute_result"
    }
   ],
   "source": [
    "from sklearn import linear_model\n",
    "from sklearn.linear_model import LogisticRegression\n",
    "from sklearn.ensemble import RandomForestRegressor\n",
    "\n",
    "regr = RandomForestRegressor(n_estimators = 100, random_state = 1)\n",
    "\n",
    "# Fitting the Random Forest Regression model to the data\n",
    "regr.fit(X_train, y_train)"
   ]
  },
  {
   "cell_type": "markdown",
   "metadata": {},
   "source": [
    "<h1>Model evaluation </h1>"
   ]
  },
  {
   "cell_type": "code",
   "execution_count": 46,
   "metadata": {},
   "outputs": [
    {
     "name": "stdout",
     "output_type": "stream",
     "text": [
      "r² score:  -0.050\n",
      "MSE:  6216.131\n",
      "RMSE:  78.842\n",
      "MAE:  61.192\n"
     ]
    }
   ],
   "source": [
    "# Predicting the target values of the test set\n",
    "y_pred = regr.predict(X_test)\n",
    "\n",
    "#r² score\n",
    "from sklearn.metrics import r2_score\n",
    "print(\"r² score: \", format(r2_score(y_test, y_pred), '.3f'))\n",
    "#print(r2_score(X_train, y_train))\n",
    "#print(r2_score(X_test, y_test))\n",
    "#print(regr.score(y_test, y_pred))\n",
    "\n",
    "# MSE (means squared error) & RMSE (Root Mean Square Error)\n",
    "from sklearn.metrics import mean_squared_error\n",
    "print(\"MSE: \", format(mean_squared_error(y_test, y_pred),'.3f'))\n",
    "print(\"RMSE: \", format(np.sqrt(mean_squared_error(y_test, y_pred)),'.3f'))\n",
    "\n",
    "#MAE (Mean Absolute Error)\n",
    "from sklearn.metrics import mean_absolute_error\n",
    "print(\"MAE: \", format(mean_absolute_error(y_test, y_pred), '.3f'))"
   ]
  },
  {
   "cell_type": "code",
   "execution_count": 32,
   "metadata": {},
   "outputs": [
    {
     "data": {
      "text/plain": [
       "<matplotlib.legend.Legend at 0x7efc12337850>"
      ]
     },
     "execution_count": 32,
     "metadata": {},
     "output_type": "execute_result"
    },
    {
     "data": {
      "image/png": "[encoded data removed]",
      "text/plain": [
       "<Figure size 1440x720 with 1 Axes>"
      ]
     },
     "metadata": {
      "needs_background": "light"
     },
     "output_type": "display_data"
    }
   ],
   "source": [
    "plt.figure(figsize=(20, 10))\n",
    "# Scatter plot for training data\n",
    "plt.scatter(regr.predict(X_train), regr.predict(X_train) - y_train, \n",
    "            color = \"green\", label = 'Train data') \n",
    " \n",
    "# plot predicted data\n",
    "plt.plot(regr.predict(X_test), regr.predict(X_test) - y_test,\n",
    "            'o',color = \"blue\", label = 'Test data') \n",
    "# plotting line for zero residual error\n",
    "plt.hlines(y = 0, xmin = 0, xmax = 400,color = \"red\")\n",
    "plt.legend()"
   ]
  },
  {
   "cell_type": "code",
   "execution_count": 33,
   "metadata": {},
   "outputs": [
    {
     "data": {
      "text/plain": [
       "Text(0.5, 0, 'blood glucose level')"
      ]
     },
     "execution_count": 33,
     "metadata": {},
     "output_type": "execute_result"
    },
    {
     "data": {
      "image/png": "[encoded data removed]",
      "text/plain": [
       "<Figure size 720x432 with 1 Axes>"
      ]
     },
     "metadata": {
      "needs_background": "light"
     },
     "output_type": "display_data"
    }
   ],
   "source": [
    "plt.figure(figsize=(10, 6))\n",
    "plt.scatter(data['glucose'], data['time'])\n",
    "plt.ylabel(\"time in minutes\")\n",
    "plt.xlabel(\"blood glucose level\")"
   ]
  },
  {
   "cell_type": "code",
   "execution_count": 34,
   "metadata": {},
   "outputs": [
    {
     "data": {
      "text/plain": [
       "Text(0.5, 0, 'blood glucose level')"
      ]
     },
     "execution_count": 34,
     "metadata": {},
     "output_type": "execute_result"
    },
    {
     "data": {
      "image/png": "[encoded data removed]",
      "text/plain": [
       "<Figure size 720x432 with 1 Axes>"
      ]
     },
     "metadata": {
      "needs_background": "light"
     },
     "output_type": "display_data"
    }
   ],
   "source": [
    "plt.figure(figsize=(10, 6))\n",
    "plt.scatter(data['glucose'], data['cleaned_code'])\n",
    "plt.ylabel(\"code\")\n",
    "plt.xlabel(\"blood glucose level\")"
   ]
  },
  {
   "cell_type": "code",
   "execution_count": 28,
   "metadata": {},
   "outputs": [
    {
     "data": {
      "text/plain": [
       "<matplotlib.collections.PathCollection at 0x7efc12ec9f10>"
      ]
     },
     "execution_count": 28,
     "metadata": {},
     "output_type": "execute_result"
    },
    {
     "data": {
      "image/png": "[encoded data removed]",
      "text/plain": [
       "<Figure size 432x288 with 1 Axes>"
      ]
     },
     "metadata": {
      "needs_background": "light"
     },
     "output_type": "display_data"
    }
   ],
   "source": [
    "plt.scatter(data['time'], data['cleaned_code'])"
   ]
  },
  {
   "cell_type": "code",
   "execution_count": 29,
   "metadata": {},
   "outputs": [
    {
     "data": {
      "text/html": [
       "<div>\n",
       "<style scoped>\n",
       "    .dataframe tbody tr th:only-of-type {\n",
       "        vertical-align: middle;\n",
       "    }\n",
       "\n",
       "    .dataframe tbody tr th {\n",
       "        vertical-align: top;\n",
       "    }\n",
       "\n",
       "    .dataframe thead th {\n",
       "        text-align: right;\n",
       "    }\n",
       "</style>\n",
       "<table border=\"1\" class=\"dataframe\">\n",
       "  <thead>\n",
       "    <tr style=\"text-align: right;\">\n",
       "      <th></th>\n",
       "      <th>timestamp</th>\n",
       "      <th>time</th>\n",
       "      <th>cleaned_code</th>\n",
       "      <th>code_glucose</th>\n",
       "      <th>glucose</th>\n",
       "      <th>code_insulin</th>\n",
       "      <th>insulin</th>\n",
       "      <th>hypo_symptoms</th>\n",
       "      <th>code_meal</th>\n",
       "      <th>meal</th>\n",
       "      <th>other</th>\n",
       "      <th>code_exercise</th>\n",
       "      <th>exercise</th>\n",
       "    </tr>\n",
       "  </thead>\n",
       "  <tbody>\n",
       "  </tbody>\n",
       "</table>\n",
       "</div>"
      ],
      "text/plain": [
       "Empty DataFrame\n",
       "Columns: [timestamp, time, cleaned_code, code_glucose, glucose, code_insulin, insulin, hypo_symptoms, code_meal, meal, other, code_exercise, exercise]\n",
       "Index: []"
      ]
     },
     "execution_count": 29,
     "metadata": {},
     "output_type": "execute_result"
    }
   ],
   "source": [
    "data[data.glucose < 0]"
   ]
  },
  {
   "cell_type": "code",
   "execution_count": null,
   "metadata": {},
   "outputs": [],
   "source": []
  }
 ],
 "metadata": {
  "interpreter": {
   "hash": "f11f10baafecf178a491ed6e6225a30c5baef129d6c47e6eb97f70800a0b29ef"
  },
  "kernelspec": {
   "display_name": "Python 3 (ipykernel)",
   "language": "python",
   "name": "python3"
  },
  "language_info": {
   "codemirror_mode": {
    "name": "ipython",
    "version": 3
   },
   "file_extension": ".py",
   "mimetype": "text/x-python",
   "name": "python",
   "nbconvert_exporter": "python",
   "pygments_lexer": "ipython3",
   "version": "3.8.10"
  }
 },
 "nbformat": 4,
 "nbformat_minor": 4
}
