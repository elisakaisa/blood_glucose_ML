{
 "cells": [
  {
   "cell_type": "code",
   "execution_count": 1,
   "metadata": {},
   "outputs": [],
   "source": [
    "import numpy as np\n",
    "import pandas as pd \n",
    "import matplotlib as mp\n",
    "import sklearn as sk\n",
    "import matplotlib.pyplot as plt\n",
    "import seaborn as sns\n",
    "\n",
    "from sklearn.preprocessing import LabelEncoder, OneHotEncoder\n",
    "from sklearn.model_selection import train_test_split\n",
    "import warnings\n",
    "warnings.filterwarnings(\"ignore\")\n",
    "\n",
    "from sklearn import metrics\n",
    "from sklearn.metrics import confusion_matrix\n",
    "from sklearn.metrics import classification_report\n",
    "from sklearn.metrics import r2_score\n",
    "from sklearn.metrics import mean_squared_error\n",
    "from sklearn.metrics import mean_absolute_error\n",
    "\n",
    "from sklearn.experimental import enable_iterative_imputer\n",
    "from sklearn.impute import SimpleImputer, IterativeImputer\n",
    "\n",
    "from sklearn import linear_model\n",
    "from sklearn.linear_model import LogisticRegression\n",
    "from sklearn.ensemble import RandomForestRegressor\n",
    "\n",
    "from sklearn.manifold import TSNE"
   ]
  },
  {
   "cell_type": "markdown",
   "metadata": {},
   "source": [
    "<h1>Import data </h1>"
   ]
  },
  {
   "cell_type": "markdown",
   "metadata": {},
   "source": [
    "Dataset: https://archive.ics.uci.edu/ml/datasets/diabetes <br>\n",
    "Your goal is to use this data to develop an ML model that can predict any individual's Blood Glucose Value, given time and activity (as specified in the data description) as input. Also try to understand, and mine for any patterns for the effect of exercise on Blood Glucose."
   ]
  },
  {
   "cell_type": "code",
   "execution_count": 2,
   "metadata": {},
   "outputs": [
    {
     "name": "stdout",
     "output_type": "stream",
     "text": [
      "<class 'pandas.core.frame.DataFrame'>\n",
      "Int64Index: 29330 entries, 0 to 340\n",
      "Data columns (total 5 columns):\n",
      " #   Column   Non-Null Count  Dtype \n",
      "---  ------   --------------  ----- \n",
      " 0   date     29297 non-null  object\n",
      " 1   time     29330 non-null  object\n",
      " 2   code     29330 non-null  int64 \n",
      " 3   value    29297 non-null  object\n",
      " 4   patient  29330 non-null  int8  \n",
      "dtypes: int64(1), int8(1), object(3)\n",
      "memory usage: 1.1+ MB\n"
     ]
    }
   ],
   "source": [
    "# combine all data table together into one dataframe\n",
    "for i in range(1,71):\n",
    "    if i == 1:\n",
    "        patient = \"01\"\n",
    "        filename = 'Diabetes-Data/data-'+ patient\n",
    "        rawdata = pd.read_table(filename, names = [\"date\", \"time\",\"code\", \"value\" ])\n",
    "        rawdata['patient'] = patient\n",
    "    else:\n",
    "        if i < 10 and i != 1:\n",
    "            patient = \"0\" + str(i)\n",
    "        else:\n",
    "            patient = str(i)\n",
    "        filename = 'Diabetes-Data/data-' + patient\n",
    "        temp = pd.read_table(filename, names = [\"date\", \"time\",\"code\", \"value\" ])\n",
    "        temp['patient'] = patient\n",
    "\n",
    "        rawdata = pd.concat([rawdata, temp])\n",
    "\n",
    "data = rawdata.copy()\n",
    "\n",
    "# change patient into an integer to save memory space and computation time\n",
    "data['patient'] = pd.to_numeric(data['patient'], errors='coerce', downcast=\"integer\")\n",
    "\n",
    "data\n",
    "data.info()"
   ]
  },
  {
   "cell_type": "code",
   "execution_count": 3,
   "metadata": {},
   "outputs": [
    {
     "data": {
      "text/plain": [
       "<AxesSubplot:>"
      ]
     },
     "execution_count": 3,
     "metadata": {},
     "output_type": "execute_result"
    },
    {
     "data": {
      "image/png": "[encoded data removed]",
      "text/plain": [
       "<Figure size 360x216 with 1 Axes>"
      ]
     },
     "metadata": {
      "needs_background": "light"
     },
     "output_type": "display_data"
    }
   ],
   "source": [
    "plt.figure(figsize=(5, 3))\n",
    "sns.heatmap(data.isnull(), yticklabels=False, cmap='viridis', cbar=False)"
   ]
  },
  {
   "cell_type": "code",
   "execution_count": 4,
   "metadata": {},
   "outputs": [
    {
     "name": "stdout",
     "output_type": "stream",
     "text": [
      "Missing values\n",
      "date => 33\n",
      "value => 33\n",
      "None\n",
      "____\n",
      "date => 0.11%\n",
      "value => 0.11%\n",
      "None\n"
     ]
    }
   ],
   "source": [
    "#useful functions to calculate missing values\n",
    "\n",
    "def missing_cols(df):\n",
    "    '''prints out columns with its amount of missing values'''\n",
    "    total = 0\n",
    "    for col in df.columns:\n",
    "        missing_vals = df[col].isnull().sum()\n",
    "        total += missing_vals\n",
    "        if missing_vals != 0:\n",
    "            print(f\"{col} => {df[col].isnull().sum()}\")\n",
    "    \n",
    "    if total == 0:\n",
    "        print(\"no missing values left\")\n",
    "\n",
    "def perc_missing(df):\n",
    "    '''prints out columns with missing values with its %'''\n",
    "    for col in df.columns:\n",
    "        pct = df[col].isna().mean() * 100\n",
    "        if (pct != 0):\n",
    "            print('{} => {}%'.format(col, round(pct, 2)))\n",
    "            \n",
    "#calculate missing values in the rawdata\n",
    "print(\"Missing values\")\n",
    "print(missing_cols(data))\n",
    "print(\"____\")\n",
    "print(perc_missing(data))"
   ]
  },
  {
   "cell_type": "markdown",
   "metadata": {},
   "source": [
    "dropping the missing values, because there are so few of them"
   ]
  },
  {
   "cell_type": "markdown",
   "metadata": {},
   "source": [
    "<h1>Data cleaning </h1>"
   ]
  },
  {
   "cell_type": "code",
   "execution_count": 5,
   "metadata": {},
   "outputs": [
    {
     "name": "stdout",
     "output_type": "stream",
     "text": [
      "<class 'pandas.core.frame.DataFrame'>\n",
      "Int64Index: 29264 entries, 0 to 340\n",
      "Data columns (total 5 columns):\n",
      " #   Column   Non-Null Count  Dtype \n",
      "---  ------   --------------  ----- \n",
      " 0   date     29264 non-null  object\n",
      " 1   time     29264 non-null  object\n",
      " 2   code     29264 non-null  int64 \n",
      " 3   value    29264 non-null  object\n",
      " 4   patient  29264 non-null  int8  \n",
      "dtypes: int64(1), int8(1), object(3)\n",
      "memory usage: 1.1+ MB\n",
      "None\n",
      "value => 8\n",
      "None\n",
      "value => 0.03%\n",
      "None\n",
      " \n",
      "<class 'pandas.core.frame.DataFrame'>\n",
      "Int64Index: 29256 entries, 0 to 340\n",
      "Data columns (total 5 columns):\n",
      " #   Column   Non-Null Count  Dtype \n",
      "---  ------   --------------  ----- \n",
      " 0   date     29256 non-null  object\n",
      " 1   time     29256 non-null  object\n",
      " 2   code     29256 non-null  int64 \n",
      " 3   value    29256 non-null  int64 \n",
      " 4   patient  29256 non-null  int8  \n",
      "dtypes: int64(2), int8(1), object(2)\n",
      "memory usage: 1.1+ MB\n",
      "None\n"
     ]
    }
   ],
   "source": [
    "# remove rows with missing values\n",
    "data = data.dropna()\n",
    "print(data.info())\n",
    "\n",
    "#drop non numeric values of \"value\" and change value from object to float, then drop N/A values\n",
    "data['value'] = pd.to_numeric(data['value'], errors='coerce')\n",
    "print(missing_cols(data))\n",
    "print(perc_missing(data))\n",
    "print(\" \")\n",
    "data = data.dropna()\n",
    "data['value'] = data['value'].astype(int)\n",
    "\n",
    "print(data.info())"
   ]
  },
  {
   "cell_type": "code",
   "execution_count": 6,
   "metadata": {},
   "outputs": [
    {
     "data": {
      "text/plain": [
       "True"
      ]
     },
     "execution_count": 6,
     "metadata": {},
     "output_type": "execute_result"
    }
   ],
   "source": [
    "#check for dublicates\n",
    "data.duplicated().any()"
   ]
  },
  {
   "cell_type": "code",
   "execution_count": 7,
   "metadata": {},
   "outputs": [
    {
     "name": "stdout",
     "output_type": "stream",
     "text": [
      "<class 'pandas.core.frame.DataFrame'>\n",
      "Int64Index: 29249 entries, 0 to 340\n",
      "Data columns (total 5 columns):\n",
      " #   Column   Non-Null Count  Dtype \n",
      "---  ------   --------------  ----- \n",
      " 0   date     29249 non-null  object\n",
      " 1   time     29249 non-null  object\n",
      " 2   code     29249 non-null  int64 \n",
      " 3   value    29249 non-null  int64 \n",
      " 4   patient  29249 non-null  int8  \n",
      "dtypes: int64(2), int8(1), object(2)\n",
      "memory usage: 1.1+ MB\n"
     ]
    }
   ],
   "source": [
    "data = data.drop_duplicates()\n",
    "data.info()"
   ]
  },
  {
   "cell_type": "markdown",
   "metadata": {},
   "source": [
    "Dropping values:\n",
    "<ol>\n",
    "    <li>dropping rows that are missing (for instance weird format): 66 rows with no date or value dropped</li>\n",
    "    <li>dropping rows that have a wrong numeric format in the value column: 8 rows dropped</li>\n",
    "    <li>dropping duplicates: 7 rows dropped\n",
    "</ol>\n",
    "Data went from 29330 rows to 29256 by dropping na:s and values with a wrong numeric format.<br>\n",
    "After dropping duplicates: 29249 rows left."
   ]
  },
  {
   "cell_type": "code",
   "execution_count": 8,
   "metadata": {},
   "outputs": [
    {
     "name": "stdout",
     "output_type": "stream",
     "text": [
      "timestamp => 12\n",
      "None\n",
      "timestamp => 0.04%\n",
      "None\n",
      " \n",
      "<class 'pandas.core.frame.DataFrame'>\n",
      "Int64Index: 29237 entries, 0 to 340\n",
      "Data columns (total 6 columns):\n",
      " #   Column     Non-Null Count  Dtype         \n",
      "---  ------     --------------  -----         \n",
      " 0   date       29237 non-null  object        \n",
      " 1   time       29237 non-null  object        \n",
      " 2   code       29237 non-null  int64         \n",
      " 3   value      29237 non-null  int64         \n",
      " 4   patient    29237 non-null  int8          \n",
      " 5   timestamp  29237 non-null  datetime64[ns]\n",
      "dtypes: datetime64[ns](1), int64(2), int8(1), object(2)\n",
      "memory usage: 1.4+ MB\n",
      "None\n"
     ]
    }
   ],
   "source": [
    "# create timestamp variable (timeseries) and drop invalid date formats\n",
    "data['timestamp'] = pd.to_datetime(data['date'] + ' ' + data['time'], errors='coerce')\n",
    "print(missing_cols(data))\n",
    "print(perc_missing(data))\n",
    "print(\" \")\n",
    "data = data.dropna()\n",
    "print(data.info())"
   ]
  },
  {
   "cell_type": "markdown",
   "metadata": {},
   "source": [
    "Dropping the numeric values with a wrong format, because they consist in only 0,04% od the data. Mostly they are just dates where the user clearly inputted the wrong format (i.e. month and day inversed or time = 188:00)<br>\n",
    "Data has now 29237 rows."
   ]
  },
  {
   "cell_type": "markdown",
   "metadata": {},
   "source": [
    "<h1>Method 1: grouping by patient and timestamp, and taking the max glucose value</h1>\n",
    "Has sightly lower r² scores and RMSE than method 2, but has the benefit of not overwriting some of the meal or insulin codes."
   ]
  },
  {
   "cell_type": "code",
   "execution_count": 9,
   "metadata": {},
   "outputs": [],
   "source": [
    "#data1 = data"
   ]
  },
  {
   "cell_type": "code",
   "execution_count": 10,
   "metadata": {},
   "outputs": [],
   "source": [
    "# delete insulin measurement values and replace them with nan:s\n",
    "#conditions = [(data1['code'] == 33), (data1['code'] == 34), (data1['code'] == 35)]\n",
    "#choices = [np.nan, np.nan, np.nan]\n",
    "#data1['value'] = np.select(conditions, choices, default=data1['value'])\n",
    "#data1"
   ]
  },
  {
   "cell_type": "code",
   "execution_count": 11,
   "metadata": {},
   "outputs": [],
   "source": [
    "# assign the maximal glucose values to the rows with the same patient and time stamp\n",
    "#data1['glucose'] = data.groupby(['patient', 'timestamp'])['value'].transform(max)\n",
    "#data1"
   ]
  },
  {
   "cell_type": "code",
   "execution_count": 12,
   "metadata": {},
   "outputs": [],
   "source": [
    "# put NaNs back to glucose column, needed later to interpolate missing values\n",
    "#data1['glucose'] = data1['glucose'].replace(0, np.nan)"
   ]
  },
  {
   "cell_type": "code",
   "execution_count": 13,
   "metadata": {},
   "outputs": [],
   "source": [
    "# plot repatition of blood glucose values\n",
    "#plt.figure(figsize=(5, 3))\n",
    "#data1['glucose'].hist(bins=100)\n",
    "#plt.xlabel('blood glucose value in mg/dL')\n",
    "#plt.ylabel('instances')\n",
    "#plt.title('Repartition of blood glucose values')"
   ]
  },
  {
   "cell_type": "code",
   "execution_count": 14,
   "metadata": {},
   "outputs": [],
   "source": [
    "#convert time column into mins\n",
    "#data1['time'] = data1['timestamp'].apply(lambda x: x.hour*60 + x.minute)"
   ]
  },
  {
   "cell_type": "code",
   "execution_count": 15,
   "metadata": {},
   "outputs": [],
   "source": [
    "#drop unnecessary columns\n",
    "#data1 = data1.drop(columns=['date', 'value', 'patient'])"
   ]
  },
  {
   "cell_type": "markdown",
   "metadata": {},
   "source": [
    "<h1>Method 2: grouping by patient and timestamp, and aggregating by timestamp</h1>\n",
    "The downside of this method is that some meal or insulin codes get overwritten, but it performs slightly better than method 1. It is also necessary to perform some more complex models later."
   ]
  },
  {
   "cell_type": "code",
   "execution_count": 16,
   "metadata": {},
   "outputs": [],
   "source": [
    "data2 = data"
   ]
  },
  {
   "cell_type": "code",
   "execution_count": 17,
   "metadata": {},
   "outputs": [
    {
     "data": {
      "text/html": [
       "<div>\n",
       "<style scoped>\n",
       "    .dataframe tbody tr th:only-of-type {\n",
       "        vertical-align: middle;\n",
       "    }\n",
       "\n",
       "    .dataframe tbody tr th {\n",
       "        vertical-align: top;\n",
       "    }\n",
       "\n",
       "    .dataframe thead th {\n",
       "        text-align: right;\n",
       "    }\n",
       "</style>\n",
       "<table border=\"1\" class=\"dataframe\">\n",
       "  <thead>\n",
       "    <tr style=\"text-align: right;\">\n",
       "      <th></th>\n",
       "      <th>patient</th>\n",
       "      <th>timestamp</th>\n",
       "      <th>time</th>\n",
       "      <th>code</th>\n",
       "      <th>value</th>\n",
       "    </tr>\n",
       "  </thead>\n",
       "  <tbody>\n",
       "    <tr>\n",
       "      <th>0</th>\n",
       "      <td>1</td>\n",
       "      <td>1991-04-21 09:09:00</td>\n",
       "      <td>[9:09, 9:09, 9:09]</td>\n",
       "      <td>[58, 33, 34]</td>\n",
       "      <td>[100, 9, 13]</td>\n",
       "    </tr>\n",
       "    <tr>\n",
       "      <th>1</th>\n",
       "      <td>1</td>\n",
       "      <td>1991-04-21 17:08:00</td>\n",
       "      <td>[17:08, 17:08]</td>\n",
       "      <td>[62, 33]</td>\n",
       "      <td>[119, 7]</td>\n",
       "    </tr>\n",
       "    <tr>\n",
       "      <th>2</th>\n",
       "      <td>1</td>\n",
       "      <td>1991-04-21 22:51:00</td>\n",
       "      <td>[22:51]</td>\n",
       "      <td>[48]</td>\n",
       "      <td>[123]</td>\n",
       "    </tr>\n",
       "    <tr>\n",
       "      <th>3</th>\n",
       "      <td>1</td>\n",
       "      <td>1991-04-22 07:35:00</td>\n",
       "      <td>[7:35, 7:35, 7:35]</td>\n",
       "      <td>[58, 33, 34]</td>\n",
       "      <td>[216, 10, 13]</td>\n",
       "    </tr>\n",
       "    <tr>\n",
       "      <th>4</th>\n",
       "      <td>1</td>\n",
       "      <td>1991-04-22 13:40:00</td>\n",
       "      <td>[13:40]</td>\n",
       "      <td>[33]</td>\n",
       "      <td>[2]</td>\n",
       "    </tr>\n",
       "  </tbody>\n",
       "</table>\n",
       "</div>"
      ],
      "text/plain": [
       "   patient           timestamp                time          code  \\\n",
       "0        1 1991-04-21 09:09:00  [9:09, 9:09, 9:09]  [58, 33, 34]   \n",
       "1        1 1991-04-21 17:08:00      [17:08, 17:08]      [62, 33]   \n",
       "2        1 1991-04-21 22:51:00             [22:51]          [48]   \n",
       "3        1 1991-04-22 07:35:00  [7:35, 7:35, 7:35]  [58, 33, 34]   \n",
       "4        1 1991-04-22 13:40:00             [13:40]          [33]   \n",
       "\n",
       "           value  \n",
       "0   [100, 9, 13]  \n",
       "1       [119, 7]  \n",
       "2          [123]  \n",
       "3  [216, 10, 13]  \n",
       "4            [2]  "
      ]
     },
     "execution_count": 17,
     "metadata": {},
     "output_type": "execute_result"
    }
   ],
   "source": [
    "# aggregate the data by patient and timestamp\n",
    "data2 = data.groupby(['patient', 'timestamp'], as_index=False).agg({\"time\":list, \"code\":list, \"value\":list})\n",
    "data2.head()"
   ]
  },
  {
   "cell_type": "markdown",
   "metadata": {},
   "source": [
    "Aggragating rows if they have the same timestamp and patient allows us to join under one timestamp the insulin values from insulin injections and glucose values fromglucose measurements that happened at the same time.<br>\n",
    "Grouping the rows made data go from 29237 rows to 18319 rows.<br>"
   ]
  },
  {
   "cell_type": "code",
   "execution_count": 18,
   "metadata": {},
   "outputs": [],
   "source": [
    "#convert time column into mins\n",
    "data2['time'] = data2['timestamp'].apply(lambda x: x.hour*60 + x.minute)\n",
    "\n",
    "# take codes out of the list in the code category\n",
    "data2['cleaned_code'] = data2['code'].apply(lambda x: x[-1]) #x[-1] seems to give out better model than x[0]"
   ]
  },
  {
   "cell_type": "markdown",
   "metadata": {},
   "source": [
    "The following bit of code allows to take out the values and codes out of the lists in the columns code and value. From there, they are inserted in the right column.<br>\n",
    "For instance, if at one timestamp we have the code 59 and 33, this code 59 will be copied in the same row in the column <em>code_glucose</em>, indicating that a glucose measurement has taken place. The blood glucose value will be copied in the column <em>glucose</em>. The code 33 will be copied in the column <em>code_insulin</em>, indicating that an insulin injection has taken place, and the value of the insulin injection will be copied in the column <em>insulin</em>."
   ]
  },
  {
   "cell_type": "code",
   "execution_count": 19,
   "metadata": {},
   "outputs": [
    {
     "name": "stdout",
     "output_type": "stream",
     "text": [
      "code_glucose => 4802\n",
      "glucose => 4802\n",
      "code_insulin => 8065\n",
      "insulin => 8065\n",
      "hypo_symptoms => 17991\n",
      "code_meal => 17807\n",
      "meal => 17807\n",
      "other => 18225\n",
      "code_exercise => 18014\n",
      "exercise => 18014\n",
      "None\n"
     ]
    }
   ],
   "source": [
    "# part not so relevant for the assignement, but important if we want to improve the model\n",
    "# code arrays\n",
    "codes_exercise = [69, 70, 71]\n",
    "codes_insulin = [33, 34, 35]\n",
    "codes_glucose_measurement = [48, 57, 58, 59, 60, 61, 62, 63, 64]\n",
    "codes_meals = [66, 67, 68]\n",
    "codes_other = [65, 72]\n",
    "\n",
    "\n",
    "for data_index, codes in enumerate(data2[\"code\"]):\n",
    "    counter = 0 \n",
    "\n",
    "    for code in codes: #[row, column]\n",
    "\n",
    "        if code in codes_meals:\n",
    "            data2.loc[data_index, 'code_meal'] = code\n",
    "            if code == 66: #typical meal\n",
    "                data2.loc[data_index, 'meal'] = 2\n",
    "            if code == 67: #more than normal meal\n",
    "                data2.loc[data_index, 'meal'] = 3\n",
    "            if code == 68: #less than normal meal\n",
    "                data2.loc[data_index, 'meal'] = 1\n",
    "\n",
    "        elif code == 65:\n",
    "            data2.loc[data_index, 'hypo_symptoms'] = 1 # 1 = true, 0 = false\n",
    "        elif code == 72:\n",
    "            data2.loc[data_index, 'other'] = 1 # 1 = true, 0 = false\n",
    "        \n",
    "        elif code in codes_exercise:\n",
    "            data2.loc[data_index, 'code_exercise'] = code\n",
    "            if code == 69: #typical exercise activity\n",
    "                data2.loc[data_index, 'exercise'] = 2\n",
    "            if code == 70: #more than normal ex activity\n",
    "                data2.loc[data_index, 'exercise'] = 3\n",
    "            if code == 71: #less than normal ex activity\n",
    "                data2.loc[data_index, 'exercise'] = 1\n",
    "\n",
    "        # separate insulin measurement values form glucose measurement\n",
    "        elif code in codes_insulin:\n",
    "            data2.loc[data_index, 'code_insulin'] = code\n",
    "            data2.loc[data_index, 'insulin'] = data2[\"value\"][data_index][counter]\n",
    "\n",
    "        elif code in codes_glucose_measurement:\n",
    "            data2.loc[data_index, 'code_glucose'] = code\n",
    "            data2.loc[data_index, 'glucose'] = data2[\"value\"][data_index][counter]\n",
    "\n",
    "        counter=+1\n",
    "\n",
    "print(missing_cols(data2))"
   ]
  },
  {
   "cell_type": "code",
   "execution_count": 20,
   "metadata": {},
   "outputs": [
    {
     "data": {
      "text/html": [
       "<div>\n",
       "<style scoped>\n",
       "    .dataframe tbody tr th:only-of-type {\n",
       "        vertical-align: middle;\n",
       "    }\n",
       "\n",
       "    .dataframe tbody tr th {\n",
       "        vertical-align: top;\n",
       "    }\n",
       "\n",
       "    .dataframe thead th {\n",
       "        text-align: right;\n",
       "    }\n",
       "</style>\n",
       "<table border=\"1\" class=\"dataframe\">\n",
       "  <thead>\n",
       "    <tr style=\"text-align: right;\">\n",
       "      <th></th>\n",
       "      <th>patient</th>\n",
       "      <th>timestamp</th>\n",
       "      <th>time</th>\n",
       "      <th>code</th>\n",
       "      <th>value</th>\n",
       "      <th>cleaned_code</th>\n",
       "      <th>code_glucose</th>\n",
       "      <th>glucose</th>\n",
       "      <th>code_insulin</th>\n",
       "      <th>insulin</th>\n",
       "      <th>hypo_symptoms</th>\n",
       "      <th>code_meal</th>\n",
       "      <th>meal</th>\n",
       "      <th>other</th>\n",
       "      <th>code_exercise</th>\n",
       "      <th>exercise</th>\n",
       "    </tr>\n",
       "  </thead>\n",
       "  <tbody>\n",
       "    <tr>\n",
       "      <th>0</th>\n",
       "      <td>1</td>\n",
       "      <td>1991-04-21 09:09:00</td>\n",
       "      <td>549</td>\n",
       "      <td>[58, 33, 34]</td>\n",
       "      <td>[100, 9, 13]</td>\n",
       "      <td>34</td>\n",
       "      <td>58.0</td>\n",
       "      <td>100.0</td>\n",
       "      <td>34.0</td>\n",
       "      <td>9.0</td>\n",
       "      <td>NaN</td>\n",
       "      <td>NaN</td>\n",
       "      <td>NaN</td>\n",
       "      <td>NaN</td>\n",
       "      <td>NaN</td>\n",
       "      <td>NaN</td>\n",
       "    </tr>\n",
       "    <tr>\n",
       "      <th>1</th>\n",
       "      <td>1</td>\n",
       "      <td>1991-04-21 17:08:00</td>\n",
       "      <td>1028</td>\n",
       "      <td>[62, 33]</td>\n",
       "      <td>[119, 7]</td>\n",
       "      <td>33</td>\n",
       "      <td>62.0</td>\n",
       "      <td>119.0</td>\n",
       "      <td>33.0</td>\n",
       "      <td>7.0</td>\n",
       "      <td>NaN</td>\n",
       "      <td>NaN</td>\n",
       "      <td>NaN</td>\n",
       "      <td>NaN</td>\n",
       "      <td>NaN</td>\n",
       "      <td>NaN</td>\n",
       "    </tr>\n",
       "    <tr>\n",
       "      <th>3</th>\n",
       "      <td>1</td>\n",
       "      <td>1991-04-22 07:35:00</td>\n",
       "      <td>455</td>\n",
       "      <td>[58, 33, 34]</td>\n",
       "      <td>[216, 10, 13]</td>\n",
       "      <td>34</td>\n",
       "      <td>58.0</td>\n",
       "      <td>216.0</td>\n",
       "      <td>34.0</td>\n",
       "      <td>10.0</td>\n",
       "      <td>NaN</td>\n",
       "      <td>NaN</td>\n",
       "      <td>NaN</td>\n",
       "      <td>NaN</td>\n",
       "      <td>NaN</td>\n",
       "      <td>NaN</td>\n",
       "    </tr>\n",
       "    <tr>\n",
       "      <th>4</th>\n",
       "      <td>1</td>\n",
       "      <td>1991-04-22 13:40:00</td>\n",
       "      <td>820</td>\n",
       "      <td>[33]</td>\n",
       "      <td>[2]</td>\n",
       "      <td>33</td>\n",
       "      <td>NaN</td>\n",
       "      <td>NaN</td>\n",
       "      <td>33.0</td>\n",
       "      <td>2.0</td>\n",
       "      <td>NaN</td>\n",
       "      <td>NaN</td>\n",
       "      <td>NaN</td>\n",
       "      <td>NaN</td>\n",
       "      <td>NaN</td>\n",
       "      <td>NaN</td>\n",
       "    </tr>\n",
       "    <tr>\n",
       "      <th>5</th>\n",
       "      <td>1</td>\n",
       "      <td>1991-04-22 16:56:00</td>\n",
       "      <td>1016</td>\n",
       "      <td>[62, 33]</td>\n",
       "      <td>[211, 7]</td>\n",
       "      <td>33</td>\n",
       "      <td>62.0</td>\n",
       "      <td>211.0</td>\n",
       "      <td>33.0</td>\n",
       "      <td>7.0</td>\n",
       "      <td>NaN</td>\n",
       "      <td>NaN</td>\n",
       "      <td>NaN</td>\n",
       "      <td>NaN</td>\n",
       "      <td>NaN</td>\n",
       "      <td>NaN</td>\n",
       "    </tr>\n",
       "    <tr>\n",
       "      <th>...</th>\n",
       "      <td>...</td>\n",
       "      <td>...</td>\n",
       "      <td>...</td>\n",
       "      <td>...</td>\n",
       "      <td>...</td>\n",
       "      <td>...</td>\n",
       "      <td>...</td>\n",
       "      <td>...</td>\n",
       "      <td>...</td>\n",
       "      <td>...</td>\n",
       "      <td>...</td>\n",
       "      <td>...</td>\n",
       "      <td>...</td>\n",
       "      <td>...</td>\n",
       "      <td>...</td>\n",
       "      <td>...</td>\n",
       "    </tr>\n",
       "    <tr>\n",
       "      <th>18313</th>\n",
       "      <td>70</td>\n",
       "      <td>1989-05-08 18:00:00</td>\n",
       "      <td>1080</td>\n",
       "      <td>[33, 34]</td>\n",
       "      <td>[1, 6]</td>\n",
       "      <td>34</td>\n",
       "      <td>NaN</td>\n",
       "      <td>NaN</td>\n",
       "      <td>34.0</td>\n",
       "      <td>6.0</td>\n",
       "      <td>NaN</td>\n",
       "      <td>NaN</td>\n",
       "      <td>NaN</td>\n",
       "      <td>NaN</td>\n",
       "      <td>NaN</td>\n",
       "      <td>NaN</td>\n",
       "    </tr>\n",
       "    <tr>\n",
       "      <th>18315</th>\n",
       "      <td>70</td>\n",
       "      <td>1989-05-09 08:00:00</td>\n",
       "      <td>480</td>\n",
       "      <td>[58, 33, 34]</td>\n",
       "      <td>[259, 1, 7]</td>\n",
       "      <td>34</td>\n",
       "      <td>58.0</td>\n",
       "      <td>259.0</td>\n",
       "      <td>34.0</td>\n",
       "      <td>1.0</td>\n",
       "      <td>NaN</td>\n",
       "      <td>NaN</td>\n",
       "      <td>NaN</td>\n",
       "      <td>NaN</td>\n",
       "      <td>NaN</td>\n",
       "      <td>NaN</td>\n",
       "    </tr>\n",
       "    <tr>\n",
       "      <th>18316</th>\n",
       "      <td>70</td>\n",
       "      <td>1989-05-10 08:00:00</td>\n",
       "      <td>480</td>\n",
       "      <td>[34]</td>\n",
       "      <td>[7]</td>\n",
       "      <td>34</td>\n",
       "      <td>NaN</td>\n",
       "      <td>NaN</td>\n",
       "      <td>34.0</td>\n",
       "      <td>7.0</td>\n",
       "      <td>NaN</td>\n",
       "      <td>NaN</td>\n",
       "      <td>NaN</td>\n",
       "      <td>NaN</td>\n",
       "      <td>NaN</td>\n",
       "      <td>NaN</td>\n",
       "    </tr>\n",
       "    <tr>\n",
       "      <th>18317</th>\n",
       "      <td>70</td>\n",
       "      <td>1989-05-11 08:00:00</td>\n",
       "      <td>480</td>\n",
       "      <td>[34]</td>\n",
       "      <td>[7]</td>\n",
       "      <td>34</td>\n",
       "      <td>NaN</td>\n",
       "      <td>NaN</td>\n",
       "      <td>34.0</td>\n",
       "      <td>7.0</td>\n",
       "      <td>NaN</td>\n",
       "      <td>NaN</td>\n",
       "      <td>NaN</td>\n",
       "      <td>NaN</td>\n",
       "      <td>NaN</td>\n",
       "      <td>NaN</td>\n",
       "    </tr>\n",
       "    <tr>\n",
       "      <th>18318</th>\n",
       "      <td>70</td>\n",
       "      <td>1989-05-12 08:00:00</td>\n",
       "      <td>480</td>\n",
       "      <td>[34]</td>\n",
       "      <td>[7]</td>\n",
       "      <td>34</td>\n",
       "      <td>NaN</td>\n",
       "      <td>NaN</td>\n",
       "      <td>34.0</td>\n",
       "      <td>7.0</td>\n",
       "      <td>NaN</td>\n",
       "      <td>NaN</td>\n",
       "      <td>NaN</td>\n",
       "      <td>NaN</td>\n",
       "      <td>NaN</td>\n",
       "      <td>NaN</td>\n",
       "    </tr>\n",
       "  </tbody>\n",
       "</table>\n",
       "<p>10217 rows × 16 columns</p>\n",
       "</div>"
      ],
      "text/plain": [
       "       patient           timestamp  time          code          value  \\\n",
       "0            1 1991-04-21 09:09:00   549  [58, 33, 34]   [100, 9, 13]   \n",
       "1            1 1991-04-21 17:08:00  1028      [62, 33]       [119, 7]   \n",
       "3            1 1991-04-22 07:35:00   455  [58, 33, 34]  [216, 10, 13]   \n",
       "4            1 1991-04-22 13:40:00   820          [33]            [2]   \n",
       "5            1 1991-04-22 16:56:00  1016      [62, 33]       [211, 7]   \n",
       "...        ...                 ...   ...           ...            ...   \n",
       "18313       70 1989-05-08 18:00:00  1080      [33, 34]         [1, 6]   \n",
       "18315       70 1989-05-09 08:00:00   480  [58, 33, 34]    [259, 1, 7]   \n",
       "18316       70 1989-05-10 08:00:00   480          [34]            [7]   \n",
       "18317       70 1989-05-11 08:00:00   480          [34]            [7]   \n",
       "18318       70 1989-05-12 08:00:00   480          [34]            [7]   \n",
       "\n",
       "       cleaned_code  code_glucose  glucose  code_insulin  insulin  \\\n",
       "0                34          58.0    100.0          34.0      9.0   \n",
       "1                33          62.0    119.0          33.0      7.0   \n",
       "3                34          58.0    216.0          34.0     10.0   \n",
       "4                33           NaN      NaN          33.0      2.0   \n",
       "5                33          62.0    211.0          33.0      7.0   \n",
       "...             ...           ...      ...           ...      ...   \n",
       "18313            34           NaN      NaN          34.0      6.0   \n",
       "18315            34          58.0    259.0          34.0      1.0   \n",
       "18316            34           NaN      NaN          34.0      7.0   \n",
       "18317            34           NaN      NaN          34.0      7.0   \n",
       "18318            34           NaN      NaN          34.0      7.0   \n",
       "\n",
       "       hypo_symptoms  code_meal  meal  other  code_exercise  exercise  \n",
       "0                NaN        NaN   NaN    NaN            NaN       NaN  \n",
       "1                NaN        NaN   NaN    NaN            NaN       NaN  \n",
       "3                NaN        NaN   NaN    NaN            NaN       NaN  \n",
       "4                NaN        NaN   NaN    NaN            NaN       NaN  \n",
       "5                NaN        NaN   NaN    NaN            NaN       NaN  \n",
       "...              ...        ...   ...    ...            ...       ...  \n",
       "18313            NaN        NaN   NaN    NaN            NaN       NaN  \n",
       "18315            NaN        NaN   NaN    NaN            NaN       NaN  \n",
       "18316            NaN        NaN   NaN    NaN            NaN       NaN  \n",
       "18317            NaN        NaN   NaN    NaN            NaN       NaN  \n",
       "18318            NaN        NaN   NaN    NaN            NaN       NaN  \n",
       "\n",
       "[10217 rows x 16 columns]"
      ]
     },
     "execution_count": 20,
     "metadata": {},
     "output_type": "execute_result"
    }
   ],
   "source": [
    "data2[data2.insulin > 0]"
   ]
  },
  {
   "cell_type": "code",
   "execution_count": 21,
   "metadata": {},
   "outputs": [
    {
     "data": {
      "text/plain": [
       "<AxesSubplot:>"
      ]
     },
     "execution_count": 21,
     "metadata": {},
     "output_type": "execute_result"
    },
    {
     "data": {
      "image/png": "[encoded data removed]",
      "text/plain": [
       "<Figure size 360x216 with 1 Axes>"
      ]
     },
     "metadata": {
      "needs_background": "light"
     },
     "output_type": "display_data"
    }
   ],
   "source": [
    "plt.figure(figsize=(5, 3))\n",
    "sns.heatmap(data2.isnull(), yticklabels=False, cmap='viridis', cbar=False)"
   ]
  },
  {
   "cell_type": "code",
   "execution_count": 22,
   "metadata": {},
   "outputs": [],
   "source": [
    "#drop columns code, value and patient\n",
    "data2 = data2.drop(columns=['code', 'value', 'patient'])"
   ]
  },
  {
   "cell_type": "code",
   "execution_count": 23,
   "metadata": {},
   "outputs": [],
   "source": [
    "# check for unrealistic values of blood glucose\n",
    "data2[data2.glucose < 5]\n",
    "# drop all rows that have blood glucose = 0\n",
    "data2 = data2[data2.glucose != 0]"
   ]
  },
  {
   "cell_type": "markdown",
   "metadata": {},
   "source": [
    "dropping the 2 values with a blood glucose of 0, because the values are unrealistic"
   ]
  },
  {
   "cell_type": "code",
   "execution_count": 24,
   "metadata": {},
   "outputs": [
    {
     "data": {
      "text/html": [
       "<div>\n",
       "<style scoped>\n",
       "    .dataframe tbody tr th:only-of-type {\n",
       "        vertical-align: middle;\n",
       "    }\n",
       "\n",
       "    .dataframe tbody tr th {\n",
       "        vertical-align: top;\n",
       "    }\n",
       "\n",
       "    .dataframe thead th {\n",
       "        text-align: right;\n",
       "    }\n",
       "</style>\n",
       "<table border=\"1\" class=\"dataframe\">\n",
       "  <thead>\n",
       "    <tr style=\"text-align: right;\">\n",
       "      <th></th>\n",
       "      <th>timestamp</th>\n",
       "      <th>time</th>\n",
       "      <th>code</th>\n",
       "      <th>code_glucose</th>\n",
       "      <th>glucose</th>\n",
       "      <th>code_insulin</th>\n",
       "      <th>insulin</th>\n",
       "      <th>hypo_symptoms</th>\n",
       "      <th>code_meal</th>\n",
       "      <th>meal</th>\n",
       "      <th>other</th>\n",
       "      <th>code_exercise</th>\n",
       "      <th>exercise</th>\n",
       "    </tr>\n",
       "  </thead>\n",
       "  <tbody>\n",
       "    <tr>\n",
       "      <th>0</th>\n",
       "      <td>1991-04-21 09:09:00</td>\n",
       "      <td>549</td>\n",
       "      <td>34</td>\n",
       "      <td>58.0</td>\n",
       "      <td>100.0</td>\n",
       "      <td>34.0</td>\n",
       "      <td>9.0</td>\n",
       "      <td>NaN</td>\n",
       "      <td>NaN</td>\n",
       "      <td>NaN</td>\n",
       "      <td>NaN</td>\n",
       "      <td>NaN</td>\n",
       "      <td>NaN</td>\n",
       "    </tr>\n",
       "    <tr>\n",
       "      <th>1</th>\n",
       "      <td>1991-04-21 17:08:00</td>\n",
       "      <td>1028</td>\n",
       "      <td>33</td>\n",
       "      <td>62.0</td>\n",
       "      <td>119.0</td>\n",
       "      <td>33.0</td>\n",
       "      <td>7.0</td>\n",
       "      <td>NaN</td>\n",
       "      <td>NaN</td>\n",
       "      <td>NaN</td>\n",
       "      <td>NaN</td>\n",
       "      <td>NaN</td>\n",
       "      <td>NaN</td>\n",
       "    </tr>\n",
       "    <tr>\n",
       "      <th>2</th>\n",
       "      <td>1991-04-21 22:51:00</td>\n",
       "      <td>1371</td>\n",
       "      <td>48</td>\n",
       "      <td>48.0</td>\n",
       "      <td>123.0</td>\n",
       "      <td>NaN</td>\n",
       "      <td>NaN</td>\n",
       "      <td>NaN</td>\n",
       "      <td>NaN</td>\n",
       "      <td>NaN</td>\n",
       "      <td>NaN</td>\n",
       "      <td>NaN</td>\n",
       "      <td>NaN</td>\n",
       "    </tr>\n",
       "    <tr>\n",
       "      <th>3</th>\n",
       "      <td>1991-04-22 07:35:00</td>\n",
       "      <td>455</td>\n",
       "      <td>34</td>\n",
       "      <td>58.0</td>\n",
       "      <td>216.0</td>\n",
       "      <td>34.0</td>\n",
       "      <td>10.0</td>\n",
       "      <td>NaN</td>\n",
       "      <td>NaN</td>\n",
       "      <td>NaN</td>\n",
       "      <td>NaN</td>\n",
       "      <td>NaN</td>\n",
       "      <td>NaN</td>\n",
       "    </tr>\n",
       "    <tr>\n",
       "      <th>4</th>\n",
       "      <td>1991-04-22 13:40:00</td>\n",
       "      <td>820</td>\n",
       "      <td>33</td>\n",
       "      <td>NaN</td>\n",
       "      <td>NaN</td>\n",
       "      <td>33.0</td>\n",
       "      <td>2.0</td>\n",
       "      <td>NaN</td>\n",
       "      <td>NaN</td>\n",
       "      <td>NaN</td>\n",
       "      <td>NaN</td>\n",
       "      <td>NaN</td>\n",
       "      <td>NaN</td>\n",
       "    </tr>\n",
       "    <tr>\n",
       "      <th>...</th>\n",
       "      <td>...</td>\n",
       "      <td>...</td>\n",
       "      <td>...</td>\n",
       "      <td>...</td>\n",
       "      <td>...</td>\n",
       "      <td>...</td>\n",
       "      <td>...</td>\n",
       "      <td>...</td>\n",
       "      <td>...</td>\n",
       "      <td>...</td>\n",
       "      <td>...</td>\n",
       "      <td>...</td>\n",
       "      <td>...</td>\n",
       "    </tr>\n",
       "    <tr>\n",
       "      <th>18314</th>\n",
       "      <td>1989-05-08 22:00:00</td>\n",
       "      <td>1320</td>\n",
       "      <td>48</td>\n",
       "      <td>48.0</td>\n",
       "      <td>145.0</td>\n",
       "      <td>NaN</td>\n",
       "      <td>NaN</td>\n",
       "      <td>NaN</td>\n",
       "      <td>NaN</td>\n",
       "      <td>NaN</td>\n",
       "      <td>NaN</td>\n",
       "      <td>NaN</td>\n",
       "      <td>NaN</td>\n",
       "    </tr>\n",
       "    <tr>\n",
       "      <th>18315</th>\n",
       "      <td>1989-05-09 08:00:00</td>\n",
       "      <td>480</td>\n",
       "      <td>34</td>\n",
       "      <td>58.0</td>\n",
       "      <td>259.0</td>\n",
       "      <td>34.0</td>\n",
       "      <td>1.0</td>\n",
       "      <td>NaN</td>\n",
       "      <td>NaN</td>\n",
       "      <td>NaN</td>\n",
       "      <td>NaN</td>\n",
       "      <td>NaN</td>\n",
       "      <td>NaN</td>\n",
       "    </tr>\n",
       "    <tr>\n",
       "      <th>18316</th>\n",
       "      <td>1989-05-10 08:00:00</td>\n",
       "      <td>480</td>\n",
       "      <td>34</td>\n",
       "      <td>NaN</td>\n",
       "      <td>NaN</td>\n",
       "      <td>34.0</td>\n",
       "      <td>7.0</td>\n",
       "      <td>NaN</td>\n",
       "      <td>NaN</td>\n",
       "      <td>NaN</td>\n",
       "      <td>NaN</td>\n",
       "      <td>NaN</td>\n",
       "      <td>NaN</td>\n",
       "    </tr>\n",
       "    <tr>\n",
       "      <th>18317</th>\n",
       "      <td>1989-05-11 08:00:00</td>\n",
       "      <td>480</td>\n",
       "      <td>34</td>\n",
       "      <td>NaN</td>\n",
       "      <td>NaN</td>\n",
       "      <td>34.0</td>\n",
       "      <td>7.0</td>\n",
       "      <td>NaN</td>\n",
       "      <td>NaN</td>\n",
       "      <td>NaN</td>\n",
       "      <td>NaN</td>\n",
       "      <td>NaN</td>\n",
       "      <td>NaN</td>\n",
       "    </tr>\n",
       "    <tr>\n",
       "      <th>18318</th>\n",
       "      <td>1989-05-12 08:00:00</td>\n",
       "      <td>480</td>\n",
       "      <td>34</td>\n",
       "      <td>NaN</td>\n",
       "      <td>NaN</td>\n",
       "      <td>34.0</td>\n",
       "      <td>7.0</td>\n",
       "      <td>NaN</td>\n",
       "      <td>NaN</td>\n",
       "      <td>NaN</td>\n",
       "      <td>NaN</td>\n",
       "      <td>NaN</td>\n",
       "      <td>NaN</td>\n",
       "    </tr>\n",
       "  </tbody>\n",
       "</table>\n",
       "<p>18318 rows × 13 columns</p>\n",
       "</div>"
      ],
      "text/plain": [
       "                timestamp  time  code  code_glucose  glucose  code_insulin  \\\n",
       "0     1991-04-21 09:09:00   549    34          58.0    100.0          34.0   \n",
       "1     1991-04-21 17:08:00  1028    33          62.0    119.0          33.0   \n",
       "2     1991-04-21 22:51:00  1371    48          48.0    123.0           NaN   \n",
       "3     1991-04-22 07:35:00   455    34          58.0    216.0          34.0   \n",
       "4     1991-04-22 13:40:00   820    33           NaN      NaN          33.0   \n",
       "...                   ...   ...   ...           ...      ...           ...   \n",
       "18314 1989-05-08 22:00:00  1320    48          48.0    145.0           NaN   \n",
       "18315 1989-05-09 08:00:00   480    34          58.0    259.0          34.0   \n",
       "18316 1989-05-10 08:00:00   480    34           NaN      NaN          34.0   \n",
       "18317 1989-05-11 08:00:00   480    34           NaN      NaN          34.0   \n",
       "18318 1989-05-12 08:00:00   480    34           NaN      NaN          34.0   \n",
       "\n",
       "       insulin  hypo_symptoms  code_meal  meal  other  code_exercise  exercise  \n",
       "0          9.0            NaN        NaN   NaN    NaN            NaN       NaN  \n",
       "1          7.0            NaN        NaN   NaN    NaN            NaN       NaN  \n",
       "2          NaN            NaN        NaN   NaN    NaN            NaN       NaN  \n",
       "3         10.0            NaN        NaN   NaN    NaN            NaN       NaN  \n",
       "4          2.0            NaN        NaN   NaN    NaN            NaN       NaN  \n",
       "...        ...            ...        ...   ...    ...            ...       ...  \n",
       "18314      NaN            NaN        NaN   NaN    NaN            NaN       NaN  \n",
       "18315      1.0            NaN        NaN   NaN    NaN            NaN       NaN  \n",
       "18316      7.0            NaN        NaN   NaN    NaN            NaN       NaN  \n",
       "18317      7.0            NaN        NaN   NaN    NaN            NaN       NaN  \n",
       "18318      7.0            NaN        NaN   NaN    NaN            NaN       NaN  \n",
       "\n",
       "[18318 rows x 13 columns]"
      ]
     },
     "execution_count": 24,
     "metadata": {},
     "output_type": "execute_result"
    }
   ],
   "source": [
    "# rename column values\n",
    "data2 = data2.rename(columns={'cleaned_code': 'code'})\n",
    "data2"
   ]
  },
  {
   "cell_type": "code",
   "execution_count": 25,
   "metadata": {},
   "outputs": [
    {
     "data": {
      "text/html": [
       "<div>\n",
       "<style scoped>\n",
       "    .dataframe tbody tr th:only-of-type {\n",
       "        vertical-align: middle;\n",
       "    }\n",
       "\n",
       "    .dataframe tbody tr th {\n",
       "        vertical-align: top;\n",
       "    }\n",
       "\n",
       "    .dataframe thead th {\n",
       "        text-align: right;\n",
       "    }\n",
       "</style>\n",
       "<table border=\"1\" class=\"dataframe\">\n",
       "  <thead>\n",
       "    <tr style=\"text-align: right;\">\n",
       "      <th></th>\n",
       "      <th>timestamp</th>\n",
       "      <th>time</th>\n",
       "      <th>code</th>\n",
       "      <th>code_glucose</th>\n",
       "      <th>glucose</th>\n",
       "      <th>code_insulin</th>\n",
       "      <th>insulin</th>\n",
       "      <th>hypo_symptoms</th>\n",
       "      <th>code_meal</th>\n",
       "      <th>meal</th>\n",
       "      <th>other</th>\n",
       "      <th>code_exercise</th>\n",
       "      <th>exercise</th>\n",
       "    </tr>\n",
       "  </thead>\n",
       "  <tbody>\n",
       "    <tr>\n",
       "      <th>0</th>\n",
       "      <td>1991-04-21 09:09:00</td>\n",
       "      <td>549</td>\n",
       "      <td>34</td>\n",
       "      <td>58.0</td>\n",
       "      <td>100.0</td>\n",
       "      <td>34.0</td>\n",
       "      <td>9.0</td>\n",
       "      <td>0.0</td>\n",
       "      <td>0.0</td>\n",
       "      <td>0.0</td>\n",
       "      <td>0.0</td>\n",
       "      <td>0.0</td>\n",
       "      <td>0.0</td>\n",
       "    </tr>\n",
       "    <tr>\n",
       "      <th>1</th>\n",
       "      <td>1991-04-21 17:08:00</td>\n",
       "      <td>1028</td>\n",
       "      <td>33</td>\n",
       "      <td>62.0</td>\n",
       "      <td>119.0</td>\n",
       "      <td>33.0</td>\n",
       "      <td>7.0</td>\n",
       "      <td>0.0</td>\n",
       "      <td>0.0</td>\n",
       "      <td>0.0</td>\n",
       "      <td>0.0</td>\n",
       "      <td>0.0</td>\n",
       "      <td>0.0</td>\n",
       "    </tr>\n",
       "    <tr>\n",
       "      <th>2</th>\n",
       "      <td>1991-04-21 22:51:00</td>\n",
       "      <td>1371</td>\n",
       "      <td>48</td>\n",
       "      <td>48.0</td>\n",
       "      <td>123.0</td>\n",
       "      <td>0.0</td>\n",
       "      <td>0.0</td>\n",
       "      <td>0.0</td>\n",
       "      <td>0.0</td>\n",
       "      <td>0.0</td>\n",
       "      <td>0.0</td>\n",
       "      <td>0.0</td>\n",
       "      <td>0.0</td>\n",
       "    </tr>\n",
       "    <tr>\n",
       "      <th>3</th>\n",
       "      <td>1991-04-22 07:35:00</td>\n",
       "      <td>455</td>\n",
       "      <td>34</td>\n",
       "      <td>58.0</td>\n",
       "      <td>216.0</td>\n",
       "      <td>34.0</td>\n",
       "      <td>10.0</td>\n",
       "      <td>0.0</td>\n",
       "      <td>0.0</td>\n",
       "      <td>0.0</td>\n",
       "      <td>0.0</td>\n",
       "      <td>0.0</td>\n",
       "      <td>0.0</td>\n",
       "    </tr>\n",
       "    <tr>\n",
       "      <th>4</th>\n",
       "      <td>1991-04-22 13:40:00</td>\n",
       "      <td>820</td>\n",
       "      <td>33</td>\n",
       "      <td>0.0</td>\n",
       "      <td>0.0</td>\n",
       "      <td>33.0</td>\n",
       "      <td>2.0</td>\n",
       "      <td>0.0</td>\n",
       "      <td>0.0</td>\n",
       "      <td>0.0</td>\n",
       "      <td>0.0</td>\n",
       "      <td>0.0</td>\n",
       "      <td>0.0</td>\n",
       "    </tr>\n",
       "  </tbody>\n",
       "</table>\n",
       "</div>"
      ],
      "text/plain": [
       "            timestamp  time  code  code_glucose  glucose  code_insulin  \\\n",
       "0 1991-04-21 09:09:00   549    34          58.0    100.0          34.0   \n",
       "1 1991-04-21 17:08:00  1028    33          62.0    119.0          33.0   \n",
       "2 1991-04-21 22:51:00  1371    48          48.0    123.0           0.0   \n",
       "3 1991-04-22 07:35:00   455    34          58.0    216.0          34.0   \n",
       "4 1991-04-22 13:40:00   820    33           0.0      0.0          33.0   \n",
       "\n",
       "   insulin  hypo_symptoms  code_meal  meal  other  code_exercise  exercise  \n",
       "0      9.0            0.0        0.0   0.0    0.0            0.0       0.0  \n",
       "1      7.0            0.0        0.0   0.0    0.0            0.0       0.0  \n",
       "2      0.0            0.0        0.0   0.0    0.0            0.0       0.0  \n",
       "3     10.0            0.0        0.0   0.0    0.0            0.0       0.0  \n",
       "4      2.0            0.0        0.0   0.0    0.0            0.0       0.0  "
      ]
     },
     "execution_count": 25,
     "metadata": {},
     "output_type": "execute_result"
    }
   ],
   "source": [
    "#filling code values with 0 (where 0 ≃ false)\n",
    "data2 = data2.fillna(0)\n",
    "data2.head()"
   ]
  },
  {
   "cell_type": "code",
   "execution_count": 26,
   "metadata": {},
   "outputs": [
    {
     "data": {
      "text/html": [
       "<div>\n",
       "<style scoped>\n",
       "    .dataframe tbody tr th:only-of-type {\n",
       "        vertical-align: middle;\n",
       "    }\n",
       "\n",
       "    .dataframe tbody tr th {\n",
       "        vertical-align: top;\n",
       "    }\n",
       "\n",
       "    .dataframe thead th {\n",
       "        text-align: right;\n",
       "    }\n",
       "</style>\n",
       "<table border=\"1\" class=\"dataframe\">\n",
       "  <thead>\n",
       "    <tr style=\"text-align: right;\">\n",
       "      <th></th>\n",
       "      <th>timestamp</th>\n",
       "      <th>time</th>\n",
       "      <th>code</th>\n",
       "      <th>code_glucose</th>\n",
       "      <th>glucose</th>\n",
       "      <th>code_insulin</th>\n",
       "      <th>insulin</th>\n",
       "      <th>hypo_symptoms</th>\n",
       "      <th>code_meal</th>\n",
       "      <th>meal</th>\n",
       "      <th>other</th>\n",
       "      <th>code_exercise</th>\n",
       "      <th>exercise</th>\n",
       "    </tr>\n",
       "  </thead>\n",
       "  <tbody>\n",
       "    <tr>\n",
       "      <th>0</th>\n",
       "      <td>1991-04-21 09:09:00</td>\n",
       "      <td>549</td>\n",
       "      <td>34</td>\n",
       "      <td>58.0</td>\n",
       "      <td>100.0</td>\n",
       "      <td>34.0</td>\n",
       "      <td>9.0</td>\n",
       "      <td>0.0</td>\n",
       "      <td>0.0</td>\n",
       "      <td>0.0</td>\n",
       "      <td>0.0</td>\n",
       "      <td>0.0</td>\n",
       "      <td>0.0</td>\n",
       "    </tr>\n",
       "    <tr>\n",
       "      <th>1</th>\n",
       "      <td>1991-04-21 17:08:00</td>\n",
       "      <td>1028</td>\n",
       "      <td>33</td>\n",
       "      <td>62.0</td>\n",
       "      <td>119.0</td>\n",
       "      <td>33.0</td>\n",
       "      <td>7.0</td>\n",
       "      <td>0.0</td>\n",
       "      <td>0.0</td>\n",
       "      <td>0.0</td>\n",
       "      <td>0.0</td>\n",
       "      <td>0.0</td>\n",
       "      <td>0.0</td>\n",
       "    </tr>\n",
       "    <tr>\n",
       "      <th>2</th>\n",
       "      <td>1991-04-21 22:51:00</td>\n",
       "      <td>1371</td>\n",
       "      <td>57</td>\n",
       "      <td>48.0</td>\n",
       "      <td>123.0</td>\n",
       "      <td>0.0</td>\n",
       "      <td>0.0</td>\n",
       "      <td>0.0</td>\n",
       "      <td>0.0</td>\n",
       "      <td>0.0</td>\n",
       "      <td>0.0</td>\n",
       "      <td>0.0</td>\n",
       "      <td>0.0</td>\n",
       "    </tr>\n",
       "    <tr>\n",
       "      <th>3</th>\n",
       "      <td>1991-04-22 07:35:00</td>\n",
       "      <td>455</td>\n",
       "      <td>34</td>\n",
       "      <td>58.0</td>\n",
       "      <td>216.0</td>\n",
       "      <td>34.0</td>\n",
       "      <td>10.0</td>\n",
       "      <td>0.0</td>\n",
       "      <td>0.0</td>\n",
       "      <td>0.0</td>\n",
       "      <td>0.0</td>\n",
       "      <td>0.0</td>\n",
       "      <td>0.0</td>\n",
       "    </tr>\n",
       "    <tr>\n",
       "      <th>4</th>\n",
       "      <td>1991-04-22 13:40:00</td>\n",
       "      <td>820</td>\n",
       "      <td>33</td>\n",
       "      <td>0.0</td>\n",
       "      <td>NaN</td>\n",
       "      <td>33.0</td>\n",
       "      <td>2.0</td>\n",
       "      <td>0.0</td>\n",
       "      <td>0.0</td>\n",
       "      <td>0.0</td>\n",
       "      <td>0.0</td>\n",
       "      <td>0.0</td>\n",
       "      <td>0.0</td>\n",
       "    </tr>\n",
       "  </tbody>\n",
       "</table>\n",
       "</div>"
      ],
      "text/plain": [
       "            timestamp  time  code  code_glucose  glucose  code_insulin  \\\n",
       "0 1991-04-21 09:09:00   549    34          58.0    100.0          34.0   \n",
       "1 1991-04-21 17:08:00  1028    33          62.0    119.0          33.0   \n",
       "2 1991-04-21 22:51:00  1371    57          48.0    123.0           0.0   \n",
       "3 1991-04-22 07:35:00   455    34          58.0    216.0          34.0   \n",
       "4 1991-04-22 13:40:00   820    33           0.0      NaN          33.0   \n",
       "\n",
       "   insulin  hypo_symptoms  code_meal  meal  other  code_exercise  exercise  \n",
       "0      9.0            0.0        0.0   0.0    0.0            0.0       0.0  \n",
       "1      7.0            0.0        0.0   0.0    0.0            0.0       0.0  \n",
       "2      0.0            0.0        0.0   0.0    0.0            0.0       0.0  \n",
       "3     10.0            0.0        0.0   0.0    0.0            0.0       0.0  \n",
       "4      2.0            0.0        0.0   0.0    0.0            0.0       0.0  "
      ]
     },
     "execution_count": 26,
     "metadata": {},
     "output_type": "execute_result"
    }
   ],
   "source": [
    "# put NaNs back to glucose column, needed later to interpolate missing values\n",
    "data2['glucose'] = data2['glucose'].replace(0, np.nan)\n",
    "\n",
    "#replace code 48 with 57, because both codes mean the same thing\n",
    "data2['code_meal'] = data2['code_meal'].replace(48, 57)\n",
    "data2['code'] = data2['code'].replace(48, 57)\n",
    "data2.head()"
   ]
  },
  {
   "cell_type": "code",
   "execution_count": null,
   "metadata": {},
   "outputs": [],
   "source": []
  },
  {
   "cell_type": "code",
   "execution_count": 27,
   "metadata": {},
   "outputs": [
    {
     "name": "stdout",
     "output_type": "stream",
     "text": [
      "<class 'pandas.core.frame.DataFrame'>\n",
      "Int64Index: 18318 entries, 0 to 18318\n",
      "Data columns (total 13 columns):\n",
      " #   Column         Non-Null Count  Dtype         \n",
      "---  ------         --------------  -----         \n",
      " 0   timestamp      18318 non-null  datetime64[ns]\n",
      " 1   time           18318 non-null  int64         \n",
      " 2   code           18318 non-null  category      \n",
      " 3   code_glucose   18318 non-null  category      \n",
      " 4   glucose        13516 non-null  float64       \n",
      " 5   code_insulin   18318 non-null  category      \n",
      " 6   insulin        18318 non-null  int64         \n",
      " 7   hypo_symptoms  18318 non-null  category      \n",
      " 8   code_meal      18318 non-null  category      \n",
      " 9   meal           18318 non-null  category      \n",
      " 10  other          18318 non-null  category      \n",
      " 11  code_exercise  18318 non-null  category      \n",
      " 12  exercise       18318 non-null  category      \n",
      "dtypes: category(9), datetime64[ns](1), float64(1), int64(2)\n",
      "memory usage: 878.9 KB\n"
     ]
    }
   ],
   "source": [
    "# change type of columns --> saves memory and space\n",
    "    # code columns --> category\n",
    "    # insulin column --> integer\n",
    "cols_cat = ['code_glucose', 'code_insulin', 'code', 'other', 'hypo_symptoms',\n",
    "            'code_meal','meal', 'code_exercise', 'exercise']\n",
    "cols_int = ['insulin']\n",
    "data2[cols_int] = data2[cols_int].astype(int)\n",
    "data2[cols_cat] = data2[cols_cat].astype('category')\n",
    "data2.info()"
   ]
  },
  {
   "cell_type": "code",
   "execution_count": 28,
   "metadata": {},
   "outputs": [
    {
     "data": {
      "text/plain": [
       "<AxesSubplot:>"
      ]
     },
     "execution_count": 28,
     "metadata": {},
     "output_type": "execute_result"
    },
    {
     "data": {
      "image/png": "[encoded data removed]",
      "text/plain": [
       "<Figure size 360x216 with 1 Axes>"
      ]
     },
     "metadata": {
      "needs_background": "light"
     },
     "output_type": "display_data"
    }
   ],
   "source": [
    "plt.figure(figsize=(5, 3))\n",
    "sns.heatmap(data2.isnull(), yticklabels=False, cmap='viridis', cbar=False)"
   ]
  },
  {
   "cell_type": "code",
   "execution_count": 29,
   "metadata": {},
   "outputs": [
    {
     "name": "stdout",
     "output_type": "stream",
     "text": [
      "no missing values left\n",
      "None\n",
      "----\n",
      "None\n"
     ]
    }
   ],
   "source": [
    "print(missing_cols(data))\n",
    "print(\"----\")\n",
    "print(perc_missing(data))"
   ]
  },
  {
   "cell_type": "markdown",
   "metadata": {},
   "source": [
    "A lot of missing glucose values --> cannot just be deleted with <em>df.dropna()</em>, it needs to be somewhat dealt with, before creating the model."
   ]
  },
  {
   "cell_type": "code",
   "execution_count": 30,
   "metadata": {},
   "outputs": [
    {
     "data": {
      "text/plain": [
       "Text(0.5, 1.0, 'Repartition of blood glucose values')"
      ]
     },
     "execution_count": 30,
     "metadata": {},
     "output_type": "execute_result"
    },
    {
     "data": {
      "image/png": "[encoded data removed]",
      "text/plain": [
       "<Figure size 360x216 with 1 Axes>"
      ]
     },
     "metadata": {
      "needs_background": "light"
     },
     "output_type": "display_data"
    }
   ],
   "source": [
    "# plot repatition of blood glucose values\n",
    "plt.figure(figsize=(5, 3))\n",
    "data2['glucose'].hist(bins=200)\n",
    "plt.xlabel('blood glucose value in mg/dL')\n",
    "plt.ylabel('instances')\n",
    "plt.title('Repartition of blood glucose values')"
   ]
  },
  {
   "cell_type": "code",
   "execution_count": 31,
   "metadata": {},
   "outputs": [
    {
     "data": {
      "text/plain": [
       "[Text(0.5, 0, 'code'), Text(0, 0.5, 'time in minutes')]"
      ]
     },
     "execution_count": 31,
     "metadata": {},
     "output_type": "execute_result"
    },
    {
     "data": {
      "image/png": "[encoded data removed]",
      "text/plain": [
       "<Figure size 1440x360 with 3 Axes>"
      ]
     },
     "metadata": {
      "needs_background": "light"
     },
     "output_type": "display_data"
    }
   ],
   "source": [
    "# Plotting a comparison between the different strategies\n",
    "fig, axes = plt.subplots(nrows=1, ncols=3, figsize=(20, 5))\n",
    "axes = np.reshape(axes, -1)\n",
    "\n",
    "axes[0].scatter(data2['glucose'], data2['time'])\n",
    "axes[0].set(xlabel=\"blood glucose level\",ylabel=\"time in minutes\")\n",
    "axes[1].scatter(data2['glucose'], data2['code'])\n",
    "axes[1].set(xlabel=\"blood glucose level\",ylabel=\"code\")\n",
    "axes[2].scatter(data2['code'], data2['time'])\n",
    "axes[2].set(xlabel=\"code\",ylabel=\"time in minutes\")"
   ]
  },
  {
   "cell_type": "code",
   "execution_count": 32,
   "metadata": {},
   "outputs": [
    {
     "data": {
      "text/plain": [
       "<matplotlib.collections.PathCollection at 0x7f9638f39eb0>"
      ]
     },
     "execution_count": 32,
     "metadata": {},
     "output_type": "execute_result"
    },
    {
     "data": {
      "image/png": "[encoded data removed]",
      "text/plain": [
       "<Figure size 432x288 with 1 Axes>"
      ]
     },
     "metadata": {
      "needs_background": "light"
     },
     "output_type": "display_data"
    }
   ],
   "source": [
    "plt.scatter(data2['insulin'], data2['glucose'])"
   ]
  },
  {
   "cell_type": "markdown",
   "metadata": {},
   "source": [
    "<h1>Imputing values / dealing with NaNs </h1>"
   ]
  },
  {
   "cell_type": "markdown",
   "metadata": {},
   "source": [
    "There are a lot missing values in the glucose column (about 26%), cannot just be erased from the dataframe.\n",
    "NaNs cannot be used in the model."
   ]
  },
  {
   "cell_type": "code",
   "execution_count": 33,
   "metadata": {},
   "outputs": [],
   "source": [
    "#choose dataset\n",
    "data = data2"
   ]
  },
  {
   "cell_type": "code",
   "execution_count": 34,
   "metadata": {},
   "outputs": [],
   "source": [
    "cont_feats = [col for col in data.columns if data[col].dtype == 'float64']\n",
    "\n",
    "# Mean Imputation\n",
    "mean_imputer = SimpleImputer(strategy='mean')\n",
    "mean_imputed = mean_imputer.fit_transform(data[cont_feats] )\n",
    "df_mean_imputed = pd.DataFrame(mean_imputed, columns=cont_feats)\n",
    "\n",
    "# Median Imputation\n",
    "median_imputer = SimpleImputer(strategy='median')\n",
    "median_imputed = median_imputer.fit_transform(data[cont_feats] )\n",
    "df_median_imputed = pd.DataFrame(median_imputed, columns=cont_feats)\n",
    "\n",
    "# Iterative Imputation\n",
    "iter_imputer = IterativeImputer(random_state=42)\n",
    "iter_imputed = iter_imputer.fit_transform(data[cont_feats] )\n",
    "df_iter_imputed = pd.DataFrame(iter_imputed, columns=cont_feats)"
   ]
  },
  {
   "cell_type": "code",
   "execution_count": 35,
   "metadata": {},
   "outputs": [
    {
     "data": {
      "image/png": "[encoded data removed]",
      "text/plain": [
       "<Figure size 1368x288 with 3 Axes>"
      ]
     },
     "metadata": {
      "needs_background": "light"
     },
     "output_type": "display_data"
    }
   ],
   "source": [
    "# Plotting a comparison between the different strategies\n",
    "# /!\\ only works with data = data2\n",
    "fig, axes = plt.subplots(nrows=1, ncols=3, sharex=True, figsize=(19, 4))\n",
    "axes = np.reshape(axes, -1)\n",
    "\n",
    "dfs = [df_mean_imputed, df_median_imputed, df_iter_imputed]\n",
    "titles = ['Mean Imputation', 'Median Imputation', 'Iterative Imputation']\n",
    "\n",
    "for i, df in enumerate(dfs):\n",
    "    # Plotting the data\n",
    "    x = data.time\n",
    "    y = df.glucose\n",
    "    sns.scatterplot(x, y, ax=axes[i], color='green')\n",
    "    \n",
    "    # Fitting and plotting a linear regression line\n",
    "    m, b = np.polyfit(x, y, 1)\n",
    "    linreg = m*x + b\n",
    "    axes[i].plot(x, linreg, color='black', linestyle='dashed')\n",
    "    \n",
    "    # Setting the titles and including the RMSE values\n",
    "    axes[i].set_title(titles[i], fontsize=16, fontweight='bold')\n",
    "    rmse = round(mean_squared_error(y, linreg, squared=False), 3)\n",
    "    axes[i].text(1000, 1, f'RMSE: {rmse}', fontsize=14, fontweight='bold')"
   ]
  },
  {
   "cell_type": "markdown",
   "metadata": {},
   "source": [
    "No big difference between different imputation types.<br>\n",
    "Do not make that much sense, because we are assuming a linear repartition of values, which is not really the case here anyways."
   ]
  },
  {
   "cell_type": "code",
   "execution_count": 36,
   "metadata": {},
   "outputs": [
    {
     "data": {
      "text/html": [
       "<div>\n",
       "<style scoped>\n",
       "    .dataframe tbody tr th:only-of-type {\n",
       "        vertical-align: middle;\n",
       "    }\n",
       "\n",
       "    .dataframe tbody tr th {\n",
       "        vertical-align: top;\n",
       "    }\n",
       "\n",
       "    .dataframe thead th {\n",
       "        text-align: right;\n",
       "    }\n",
       "</style>\n",
       "<table border=\"1\" class=\"dataframe\">\n",
       "  <thead>\n",
       "    <tr style=\"text-align: right;\">\n",
       "      <th></th>\n",
       "      <th>timestamp</th>\n",
       "      <th>time</th>\n",
       "      <th>code</th>\n",
       "      <th>code_glucose</th>\n",
       "      <th>glucose</th>\n",
       "      <th>code_insulin</th>\n",
       "      <th>insulin</th>\n",
       "      <th>hypo_symptoms</th>\n",
       "      <th>code_meal</th>\n",
       "      <th>meal</th>\n",
       "      <th>other</th>\n",
       "      <th>code_exercise</th>\n",
       "      <th>exercise</th>\n",
       "    </tr>\n",
       "  </thead>\n",
       "  <tbody>\n",
       "    <tr>\n",
       "      <th>0</th>\n",
       "      <td>1991-04-21 09:09:00</td>\n",
       "      <td>549</td>\n",
       "      <td>34</td>\n",
       "      <td>58.0</td>\n",
       "      <td>100.0</td>\n",
       "      <td>34.0</td>\n",
       "      <td>9</td>\n",
       "      <td>0.0</td>\n",
       "      <td>0.0</td>\n",
       "      <td>0.0</td>\n",
       "      <td>0.0</td>\n",
       "      <td>0.0</td>\n",
       "      <td>0.0</td>\n",
       "    </tr>\n",
       "    <tr>\n",
       "      <th>1</th>\n",
       "      <td>1991-04-21 17:08:00</td>\n",
       "      <td>1028</td>\n",
       "      <td>33</td>\n",
       "      <td>62.0</td>\n",
       "      <td>119.0</td>\n",
       "      <td>33.0</td>\n",
       "      <td>7</td>\n",
       "      <td>0.0</td>\n",
       "      <td>0.0</td>\n",
       "      <td>0.0</td>\n",
       "      <td>0.0</td>\n",
       "      <td>0.0</td>\n",
       "      <td>0.0</td>\n",
       "    </tr>\n",
       "    <tr>\n",
       "      <th>2</th>\n",
       "      <td>1991-04-21 22:51:00</td>\n",
       "      <td>1371</td>\n",
       "      <td>57</td>\n",
       "      <td>48.0</td>\n",
       "      <td>123.0</td>\n",
       "      <td>0.0</td>\n",
       "      <td>0</td>\n",
       "      <td>0.0</td>\n",
       "      <td>0.0</td>\n",
       "      <td>0.0</td>\n",
       "      <td>0.0</td>\n",
       "      <td>0.0</td>\n",
       "      <td>0.0</td>\n",
       "    </tr>\n",
       "    <tr>\n",
       "      <th>3</th>\n",
       "      <td>1991-04-22 07:35:00</td>\n",
       "      <td>455</td>\n",
       "      <td>34</td>\n",
       "      <td>58.0</td>\n",
       "      <td>216.0</td>\n",
       "      <td>34.0</td>\n",
       "      <td>10</td>\n",
       "      <td>0.0</td>\n",
       "      <td>0.0</td>\n",
       "      <td>0.0</td>\n",
       "      <td>0.0</td>\n",
       "      <td>0.0</td>\n",
       "      <td>0.0</td>\n",
       "    </tr>\n",
       "    <tr>\n",
       "      <th>4</th>\n",
       "      <td>1991-04-22 13:40:00</td>\n",
       "      <td>820</td>\n",
       "      <td>33</td>\n",
       "      <td>0.0</td>\n",
       "      <td>216.0</td>\n",
       "      <td>33.0</td>\n",
       "      <td>2</td>\n",
       "      <td>0.0</td>\n",
       "      <td>0.0</td>\n",
       "      <td>0.0</td>\n",
       "      <td>0.0</td>\n",
       "      <td>0.0</td>\n",
       "      <td>0.0</td>\n",
       "    </tr>\n",
       "  </tbody>\n",
       "</table>\n",
       "</div>"
      ],
      "text/plain": [
       "            timestamp  time code code_glucose  glucose code_insulin  insulin  \\\n",
       "0 1991-04-21 09:09:00   549   34         58.0    100.0         34.0        9   \n",
       "1 1991-04-21 17:08:00  1028   33         62.0    119.0         33.0        7   \n",
       "2 1991-04-21 22:51:00  1371   57         48.0    123.0          0.0        0   \n",
       "3 1991-04-22 07:35:00   455   34         58.0    216.0         34.0       10   \n",
       "4 1991-04-22 13:40:00   820   33          0.0    216.0         33.0        2   \n",
       "\n",
       "  hypo_symptoms code_meal meal other code_exercise exercise  \n",
       "0           0.0       0.0  0.0   0.0           0.0      0.0  \n",
       "1           0.0       0.0  0.0   0.0           0.0      0.0  \n",
       "2           0.0       0.0  0.0   0.0           0.0      0.0  \n",
       "3           0.0       0.0  0.0   0.0           0.0      0.0  \n",
       "4           0.0       0.0  0.0   0.0           0.0      0.0  "
      ]
     },
     "execution_count": 36,
     "metadata": {},
     "output_type": "execute_result"
    }
   ],
   "source": [
    "#interpolation of data\n",
    "\n",
    "#data['glucose'] = data['glucose'].interpolate(method='polynomial', order=3) #order 2 & 3 gives out negative glucose values\n",
    "data['glucose'] = data['glucose'].interpolate(method='nearest')\n",
    "#data['glucose'] = data['glucose'].interpolate(key='timestamp', method='time')\n",
    "data.head()"
   ]
  },
  {
   "cell_type": "markdown",
   "metadata": {},
   "source": [
    "Ways to deal with missing values. <br>\n",
    "<ul>\n",
    "    <li>polynomial interpolation --> 2nd and 3rd degree give out some negative glucose values --> unrealistic</li>\n",
    "    <li>linear interpolation</li>\n",
    "    <li>imputation (mean, median or iterative) --> no real difference between them</li>\n",
    "</ul>"
   ]
  },
  {
   "cell_type": "code",
   "execution_count": 37,
   "metadata": {},
   "outputs": [
    {
     "name": "stdout",
     "output_type": "stream",
     "text": [
      "glucose => 3\n",
      "None\n",
      "glucose => 0.02%\n",
      "None\n"
     ]
    }
   ],
   "source": [
    "print(missing_cols(data))\n",
    "print(perc_missing(data))\n",
    "\n",
    "# drop any leftover NaNs, for instance the last 3 rows, depending on the chosen method of interpolation\n",
    "data = data.dropna()"
   ]
  },
  {
   "cell_type": "markdown",
   "metadata": {},
   "source": [
    "<h1>Additional steps for classification of blood glucose</h1>"
   ]
  },
  {
   "cell_type": "markdown",
   "metadata": {},
   "source": [
    "<b>This part is not relevant for the assignememt</b><br>\n",
    "Blood glucose (based on the values of an oral sugar intake test):\n",
    "<ul>\n",
    "    <li>low: less than 140 mg/dL</li>\n",
    "    <li>normal: 140-200 mg/dL</li>\n",
    "    <li>high: above 200 mg/dL</li>\n",
    "</ul>\n",
    "NB: this repartition obviously does not take into account whether the patient's blood value is taken before or after a meal, since a normal value is very different before and after a meal. This repartition was done to have some sort of classified data, so that a logistic regression could be performed to see if this kind of model would fit the data."
   ]
  },
  {
   "cell_type": "code",
   "execution_count": 38,
   "metadata": {},
   "outputs": [
    {
     "data": {
      "text/html": [
       "<div>\n",
       "<style scoped>\n",
       "    .dataframe tbody tr th:only-of-type {\n",
       "        vertical-align: middle;\n",
       "    }\n",
       "\n",
       "    .dataframe tbody tr th {\n",
       "        vertical-align: top;\n",
       "    }\n",
       "\n",
       "    .dataframe thead th {\n",
       "        text-align: right;\n",
       "    }\n",
       "</style>\n",
       "<table border=\"1\" class=\"dataframe\">\n",
       "  <thead>\n",
       "    <tr style=\"text-align: right;\">\n",
       "      <th></th>\n",
       "      <th>timestamp</th>\n",
       "      <th>time</th>\n",
       "      <th>code</th>\n",
       "      <th>code_glucose</th>\n",
       "      <th>glucose</th>\n",
       "      <th>code_insulin</th>\n",
       "      <th>insulin</th>\n",
       "      <th>hypo_symptoms</th>\n",
       "      <th>code_meal</th>\n",
       "      <th>meal</th>\n",
       "      <th>other</th>\n",
       "      <th>code_exercise</th>\n",
       "      <th>exercise</th>\n",
       "      <th>glucose_class</th>\n",
       "    </tr>\n",
       "  </thead>\n",
       "  <tbody>\n",
       "    <tr>\n",
       "      <th>0</th>\n",
       "      <td>1991-04-21 09:09:00</td>\n",
       "      <td>549</td>\n",
       "      <td>34</td>\n",
       "      <td>58.0</td>\n",
       "      <td>100.0</td>\n",
       "      <td>34.0</td>\n",
       "      <td>9</td>\n",
       "      <td>0.0</td>\n",
       "      <td>0.0</td>\n",
       "      <td>0.0</td>\n",
       "      <td>0.0</td>\n",
       "      <td>0.0</td>\n",
       "      <td>0.0</td>\n",
       "      <td>low</td>\n",
       "    </tr>\n",
       "    <tr>\n",
       "      <th>1</th>\n",
       "      <td>1991-04-21 17:08:00</td>\n",
       "      <td>1028</td>\n",
       "      <td>33</td>\n",
       "      <td>62.0</td>\n",
       "      <td>119.0</td>\n",
       "      <td>33.0</td>\n",
       "      <td>7</td>\n",
       "      <td>0.0</td>\n",
       "      <td>0.0</td>\n",
       "      <td>0.0</td>\n",
       "      <td>0.0</td>\n",
       "      <td>0.0</td>\n",
       "      <td>0.0</td>\n",
       "      <td>low</td>\n",
       "    </tr>\n",
       "    <tr>\n",
       "      <th>2</th>\n",
       "      <td>1991-04-21 22:51:00</td>\n",
       "      <td>1371</td>\n",
       "      <td>57</td>\n",
       "      <td>48.0</td>\n",
       "      <td>123.0</td>\n",
       "      <td>0.0</td>\n",
       "      <td>0</td>\n",
       "      <td>0.0</td>\n",
       "      <td>0.0</td>\n",
       "      <td>0.0</td>\n",
       "      <td>0.0</td>\n",
       "      <td>0.0</td>\n",
       "      <td>0.0</td>\n",
       "      <td>low</td>\n",
       "    </tr>\n",
       "    <tr>\n",
       "      <th>3</th>\n",
       "      <td>1991-04-22 07:35:00</td>\n",
       "      <td>455</td>\n",
       "      <td>34</td>\n",
       "      <td>58.0</td>\n",
       "      <td>216.0</td>\n",
       "      <td>34.0</td>\n",
       "      <td>10</td>\n",
       "      <td>0.0</td>\n",
       "      <td>0.0</td>\n",
       "      <td>0.0</td>\n",
       "      <td>0.0</td>\n",
       "      <td>0.0</td>\n",
       "      <td>0.0</td>\n",
       "      <td>high</td>\n",
       "    </tr>\n",
       "    <tr>\n",
       "      <th>4</th>\n",
       "      <td>1991-04-22 13:40:00</td>\n",
       "      <td>820</td>\n",
       "      <td>33</td>\n",
       "      <td>0.0</td>\n",
       "      <td>216.0</td>\n",
       "      <td>33.0</td>\n",
       "      <td>2</td>\n",
       "      <td>0.0</td>\n",
       "      <td>0.0</td>\n",
       "      <td>0.0</td>\n",
       "      <td>0.0</td>\n",
       "      <td>0.0</td>\n",
       "      <td>0.0</td>\n",
       "      <td>high</td>\n",
       "    </tr>\n",
       "  </tbody>\n",
       "</table>\n",
       "</div>"
      ],
      "text/plain": [
       "            timestamp  time code code_glucose  glucose code_insulin  insulin  \\\n",
       "0 1991-04-21 09:09:00   549   34         58.0    100.0         34.0        9   \n",
       "1 1991-04-21 17:08:00  1028   33         62.0    119.0         33.0        7   \n",
       "2 1991-04-21 22:51:00  1371   57         48.0    123.0          0.0        0   \n",
       "3 1991-04-22 07:35:00   455   34         58.0    216.0         34.0       10   \n",
       "4 1991-04-22 13:40:00   820   33          0.0    216.0         33.0        2   \n",
       "\n",
       "  hypo_symptoms code_meal meal other code_exercise exercise glucose_class  \n",
       "0           0.0       0.0  0.0   0.0           0.0      0.0           low  \n",
       "1           0.0       0.0  0.0   0.0           0.0      0.0           low  \n",
       "2           0.0       0.0  0.0   0.0           0.0      0.0           low  \n",
       "3           0.0       0.0  0.0   0.0           0.0      0.0          high  \n",
       "4           0.0       0.0  0.0   0.0           0.0      0.0          high  "
      ]
     },
     "execution_count": 38,
     "metadata": {},
     "output_type": "execute_result"
    }
   ],
   "source": [
    "conditions = [(data['glucose'] < 140), (data['glucose'] > 200)]\n",
    "choices = ['low', 'high']\n",
    "data['glucose_class'] = np.select(conditions, choices, default='normal')\n",
    "data['glucose_class'] = data['glucose_class'].astype('category')\n",
    "data.head()"
   ]
  },
  {
   "cell_type": "markdown",
   "metadata": {},
   "source": [
    "low glucose value: 7988 <br>\n",
    "normal glucose value: 5174 <br>\n",
    "high glucose value: 5155 <br>"
   ]
  },
  {
   "cell_type": "markdown",
   "metadata": {},
   "source": [
    "<h1>Splitting the data</h1>"
   ]
  },
  {
   "cell_type": "code",
   "execution_count": 39,
   "metadata": {},
   "outputs": [],
   "source": [
    "#X = data[['time', 'cleaned_code']]\n",
    "y = data['glucose']\n",
    "\n",
    "# Assign feature variables\n",
    "X1 = data.time\n",
    "X2 = pd.get_dummies(data.code)\n",
    "# Merge time and code into one array\n",
    "X = np.c_[X1, X2]\n",
    "# Drop unspecified to avoid collinearity (Dummy trap), not needed here, because no unspecified columns\n",
    "\n",
    "#X = data[['time', 'code']]\n",
    "\n",
    "# train-test splitting of data\n",
    "X_train, X_test, y_train, y_test = train_test_split(X, y, test_size = 0.33, random_state=1)"
   ]
  },
  {
   "cell_type": "markdown",
   "metadata": {},
   "source": [
    "<h1>Linear Regression</h1>"
   ]
  },
  {
   "cell_type": "markdown",
   "metadata": {},
   "source": [
    "As seen in various plots, data is not really linear, so not very well suited."
   ]
  },
  {
   "cell_type": "markdown",
   "metadata": {},
   "source": [
    "<h3>Model</h3>"
   ]
  },
  {
   "cell_type": "code",
   "execution_count": 40,
   "metadata": {},
   "outputs": [],
   "source": [
    "#building model\n",
    "linreg = linear_model.LinearRegression()\n",
    "linreg.fit(X_train, y_train)\n",
    "\n",
    "#Predicting the target values of the test set\n",
    "y_pred_linreg = linreg.predict(X_test)"
   ]
  },
  {
   "cell_type": "markdown",
   "metadata": {},
   "source": [
    "<h3>Model evaluation</h3>"
   ]
  },
  {
   "cell_type": "code",
   "execution_count": 41,
   "metadata": {},
   "outputs": [
    {
     "name": "stdout",
     "output_type": "stream",
     "text": [
      "r² score:  0.044\n",
      "MSE:  6628.238\n",
      "RMSE:  81.414\n",
      "MAE:  66.156\n"
     ]
    }
   ],
   "source": [
    "#r² score\n",
    "print(\"r² score: \", format(r2_score(y_test, y_pred_linreg), '.3f'))\n",
    "\n",
    "# MSE (means squared error) & RMSE (Root Mean Square Error)\n",
    "print(\"MSE: \", format(mean_squared_error(y_test, y_pred_linreg),'.3f'))\n",
    "print(\"RMSE: \", format(np.sqrt(mean_squared_error(y_test, y_pred_linreg)),'.3f'))\n",
    "\n",
    "#MAE (Mean Absolute Error)\n",
    "print(\"MAE: \", format(mean_absolute_error(y_test, y_pred_linreg), '.3f'))"
   ]
  },
  {
   "cell_type": "markdown",
   "metadata": {},
   "source": [
    "<h1>Logistic Regression</h1>"
   ]
  },
  {
   "cell_type": "markdown",
   "metadata": {},
   "source": [
    "This model should predict whether the blood glucose is low, normal or high (based on a somewhat random classification), instead of predicting the actual value. Not really relevant for the assignement, but fun to play around."
   ]
  },
  {
   "cell_type": "markdown",
   "metadata": {},
   "source": [
    "<h3>Splitting data and model</h3>"
   ]
  },
  {
   "cell_type": "code",
   "execution_count": 42,
   "metadata": {},
   "outputs": [],
   "source": [
    "X_log = data[['time', 'code']]\n",
    "y_log = data['glucose_class']\n",
    "\n",
    "# train-test splitting of data\n",
    "X_train_log, X_test_log, y_train_log, y_test_log = train_test_split(X_log, y_log, test_size = 0.33, random_state=1)\n",
    "\n",
    "# instantiate the model\n",
    "logreg = LogisticRegression(random_state=1, multi_class='multinomial', solver='lbfgs')\n",
    "\n",
    "# fit the model with data\n",
    "logreg.fit(X_train_log,y_train_log)\n",
    "\n",
    "# predict target values\n",
    "y_pred_log=logreg.predict(X_test_log)"
   ]
  },
  {
   "cell_type": "markdown",
   "metadata": {},
   "source": [
    "<h3>Model evaluation</h3>"
   ]
  },
  {
   "cell_type": "code",
   "execution_count": 43,
   "metadata": {},
   "outputs": [
    {
     "data": {
      "text/html": [
       "<div>\n",
       "<style scoped>\n",
       "    .dataframe tbody tr th:only-of-type {\n",
       "        vertical-align: middle;\n",
       "    }\n",
       "\n",
       "    .dataframe tbody tr th {\n",
       "        vertical-align: top;\n",
       "    }\n",
       "\n",
       "    .dataframe thead th {\n",
       "        text-align: right;\n",
       "    }\n",
       "</style>\n",
       "<table border=\"1\" class=\"dataframe\">\n",
       "  <thead>\n",
       "    <tr style=\"text-align: right;\">\n",
       "      <th></th>\n",
       "      <th>predicted low</th>\n",
       "      <th>predicted normal</th>\n",
       "      <th>predicted high</th>\n",
       "    </tr>\n",
       "  </thead>\n",
       "  <tbody>\n",
       "    <tr>\n",
       "      <th>low</th>\n",
       "      <td>0</td>\n",
       "      <td>1822</td>\n",
       "      <td>0</td>\n",
       "    </tr>\n",
       "    <tr>\n",
       "      <th>normal</th>\n",
       "      <td>0</td>\n",
       "      <td>2728</td>\n",
       "      <td>0</td>\n",
       "    </tr>\n",
       "    <tr>\n",
       "      <th>high</th>\n",
       "      <td>0</td>\n",
       "      <td>1494</td>\n",
       "      <td>0</td>\n",
       "    </tr>\n",
       "  </tbody>\n",
       "</table>\n",
       "</div>"
      ],
      "text/plain": [
       "        predicted low  predicted normal  predicted high\n",
       "low                 0              1822               0\n",
       "normal              0              2728               0\n",
       "high                0              1494               0"
      ]
     },
     "execution_count": 43,
     "metadata": {},
     "output_type": "execute_result"
    }
   ],
   "source": [
    "#confusion matrix\n",
    "confusion_matrix(y_test_log, y_pred_log)\n",
    "confmtrx = np.array(confusion_matrix(y_test_log, y_pred_log))\n",
    "\n",
    "pd.DataFrame(confmtrx, index=['low','normal', 'high'], columns=['predicted low', 'predicted normal', 'predicted high'])"
   ]
  },
  {
   "cell_type": "code",
   "execution_count": 44,
   "metadata": {},
   "outputs": [
    {
     "name": "stdout",
     "output_type": "stream",
     "text": [
      "Accuracy Score: 0.4513567174056916\n",
      "              precision    recall  f1-score   support\n",
      "\n",
      "        high       0.00      0.00      0.00      1822\n",
      "         low       0.45      1.00      0.62      2728\n",
      "      normal       0.00      0.00      0.00      1494\n",
      "\n",
      "    accuracy                           0.45      6044\n",
      "   macro avg       0.15      0.33      0.21      6044\n",
      "weighted avg       0.20      0.45      0.28      6044\n",
      "\n"
     ]
    }
   ],
   "source": [
    "#Accuracy score\n",
    "print('Accuracy Score:', metrics.accuracy_score(y_test_log, y_pred_log))\n",
    "\n",
    "#Create classification report\n",
    "class_report=classification_report(y_test_log, y_pred_log)\n",
    "print(class_report)"
   ]
  },
  {
   "cell_type": "markdown",
   "metadata": {},
   "source": [
    "Model does not perform very well, since barely any values are predicted low or high."
   ]
  },
  {
   "cell_type": "markdown",
   "metadata": {},
   "source": [
    "<h1>Random Forest Regressor</h1>"
   ]
  },
  {
   "cell_type": "markdown",
   "metadata": {},
   "source": [
    "<h3>Model</h3>"
   ]
  },
  {
   "cell_type": "code",
   "execution_count": 45,
   "metadata": {},
   "outputs": [],
   "source": [
    "#instantiation of the model\n",
    "#parameters based on the gridsearch performed below, to find the optimal amount of estimators and depth\n",
    "regr = RandomForestRegressor(n_estimators = 150, random_state = 1, max_depth = 10)\n",
    "\n",
    "# Fitting the Random Forest Regression model to the data\n",
    "regr.fit(X_train, y_train)\n",
    "\n",
    "# Predicting the target values of the test set\n",
    "y_pred_rfr = regr.predict(X_test)"
   ]
  },
  {
   "cell_type": "markdown",
   "metadata": {},
   "source": [
    "<h3>Model evaluation </h3>"
   ]
  },
  {
   "cell_type": "code",
   "execution_count": 46,
   "metadata": {},
   "outputs": [
    {
     "name": "stdout",
     "output_type": "stream",
     "text": [
      "r² score:  0.058\n",
      "Mean squared error:  6531.096\n",
      "Root mean squared error:  80.815\n",
      "Mean absolute error:  65.315\n"
     ]
    }
   ],
   "source": [
    "#r² score\n",
    "print(\"r² score: \", format(r2_score(y_test, y_pred_rfr), '.3f'))\n",
    "\n",
    "# MSE (means squared error) & RMSE (Root Mean Square Error)\n",
    "print(\"Mean squared error: \", format(mean_squared_error(y_test, y_pred_rfr),'.3f'))\n",
    "print(\"Root mean squared error: \", format(np.sqrt(mean_squared_error(y_test, y_pred_rfr)),'.3f'))\n",
    "\n",
    "#MAE (Mean Absolute Error)\n",
    "print(\"Mean absolute error: \", format(mean_absolute_error(y_test, y_pred_rfr), '.3f'))"
   ]
  },
  {
   "cell_type": "markdown",
   "metadata": {},
   "source": [
    "<h1>Optimizing random forest regression model</h1>"
   ]
  },
  {
   "cell_type": "markdown",
   "metadata": {},
   "source": [
    "When running the following code (takes a lot of time), we get:<br>\n",
    "linear interpolation, data2:\n",
    "<ul>\n",
    "    <li>best estimator:  500</li>\n",
    "    <li>best depth:  10</li>\n",
    "    <li>min RMSE:  75.15340666414899</li>\n",
    "</ul>\n",
    "nearest interpolation, data2:\n",
    "<ul>\n",
    "    <li>best estimator:  150</li>\n",
    "    <li>best depth:  10</li>\n",
    "    <li>min RMSE:  79.726</li>\n",
    "</ul>"
   ]
  },
  {
   "cell_type": "code",
   "execution_count": 47,
   "metadata": {},
   "outputs": [],
   "source": [
    "n_estimators = [50*k for k in range(1,11)]\n",
    "max_depths = [5*k for k in range(1,21)]\n",
    "\n",
    "#init\n",
    "min_RMSE = 1000 # we arbitrarily set 100 here since it is a large number\n",
    "best_estimator = 0\n",
    "best_depth = 0\n",
    "RMSE = np.zeros(shape=[len(n_estimators), len(max_depths)])\n",
    "\n",
    "# We are looking for the parameters that minimize the RMSE\n",
    "if 1 == 2: # to run the code, delete this if\n",
    "    for estimator_id, estimator in enumerate(n_estimators):\n",
    "        for depth_id, depth in enumerate(max_depths):\n",
    "\n",
    "            regressor = RandomForestRegressor(n_estimators=estimator, random_state=1, max_depth=depth)\n",
    "            regressor.fit(X_train, y_train)\n",
    "            y_pred = regressor.predict(X_test)\n",
    "\n",
    "            RMSE_val = np.sqrt(metrics.mean_squared_error(y_test, y_pred))\n",
    "\n",
    "            RMSE[estimator_id][depth_id] = RMSE_val\n",
    "\n",
    "            if RMSE_val <= min_RMSE :\n",
    "                best_estimator = estimator\n",
    "                best_depth = depth\n",
    "                min_RMSE = RMSE_val\n",
    "\n",
    "    print(\"best estimator: \", best_estimator)\n",
    "    print(\"best depth: \", best_depth)\n",
    "    print(\"min RMSE: \", min_RMSE)"
   ]
  },
  {
   "cell_type": "markdown",
   "metadata": {},
   "source": [
    "<h1>Random forest regressor with more inputs</h1>"
   ]
  },
  {
   "cell_type": "markdown",
   "metadata": {},
   "source": [
    "The following model takes as imputs separately: \n",
    "<ul>\n",
    "    <li>time (in minutes)</li> \n",
    "    <li>insulin injection (0 if no injection)</li>\n",
    "    <li>hypoglycemic symptoms (binary true or false)</li>\n",
    "    <li>meal (scale from 0 to 3)</li> \n",
    "    <li>if there is any unspecified event (binary true or false)</li>\n",
    "    <li>exercise (from 0 to 3)</li>\n",
    "</ul>    \n",
    "These values have all been derived from the code in the cleaning part of the data. This model generally yields better results than just imputting the time and the code, as previously done."
   ]
  },
  {
   "cell_type": "code",
   "execution_count": 48,
   "metadata": {},
   "outputs": [],
   "source": [
    "# Splitting data\n",
    "X_complex = data[['time', 'insulin', 'hypo_symptoms', 'meal', 'other', 'exercise']]\n",
    "y_complex = data['glucose']\n",
    "X_train_complex, X_test_complex, y_train_complex, y_test_complex = train_test_split(X_complex, y_complex, test_size = 0.33, random_state=1)"
   ]
  },
  {
   "cell_type": "code",
   "execution_count": 49,
   "metadata": {},
   "outputs": [],
   "source": [
    "#instantiation of the model\n",
    "#parameters based on the gridsearch performed below, to find the optimal amount of estimators and depth\n",
    "regr_complex = RandomForestRegressor(n_estimators = 500, random_state = 1, max_depth = 10)\n",
    "\n",
    "# Fitting the Random Forest Regression model to the data\n",
    "regr_complex.fit(X_train_complex, y_train_complex)\n",
    "\n",
    "# Predicting the target values of the test set\n",
    "y_pred_rfr_complex = regr_complex.predict(X_test_complex)"
   ]
  },
  {
   "cell_type": "code",
   "execution_count": 50,
   "metadata": {},
   "outputs": [
    {
     "name": "stdout",
     "output_type": "stream",
     "text": [
      "r² score:  0.126\n",
      "MSE:  6056.444\n",
      "RMSE:  77.823\n",
      "MAE:  62.187\n"
     ]
    }
   ],
   "source": [
    "#r² score\n",
    "print(\"r² score: \", format(r2_score(y_test_complex, y_pred_rfr_complex), '.3f'))\n",
    "\n",
    "# MSE (means squared error) & RMSE (Root Mean Square Error)\n",
    "print(\"MSE: \", format(mean_squared_error(y_test_complex, y_pred_rfr_complex),'.3f'))\n",
    "print(\"RMSE: \", format(np.sqrt(mean_squared_error(y_test_complex, y_pred_rfr_complex)),'.3f'))\n",
    "\n",
    "#MAE (Mean Absolute Error)\n",
    "print(\"MAE: \", format(mean_absolute_error(y_test_complex, y_pred_rfr_complex), '.3f'))"
   ]
  },
  {
   "cell_type": "code",
   "execution_count": 51,
   "metadata": {},
   "outputs": [],
   "source": [
    "#change category back to int to use heatmap of correlations\n",
    "cols_cat = ['code_glucose', 'code_insulin', 'code', 'other', 'hypo_symptoms',\n",
    "            'code_meal','meal', 'code_exercise', 'exercise']\n",
    "data[cols_cat] = data[cols_cat].astype(int)"
   ]
  },
  {
   "cell_type": "code",
   "execution_count": 52,
   "metadata": {},
   "outputs": [
    {
     "data": {
      "text/plain": [
       "<AxesSubplot:>"
      ]
     },
     "execution_count": 52,
     "metadata": {},
     "output_type": "execute_result"
    },
    {
     "data": {
      "image/png": "[encoded data removed]",
      "text/plain": [
       "<Figure size 360x216 with 2 Axes>"
      ]
     },
     "metadata": {
      "needs_background": "light"
     },
     "output_type": "display_data"
    }
   ],
   "source": [
    "# plot heatmap of correlations\n",
    "label_encoder = LabelEncoder()\n",
    "data.iloc[:,0] = label_encoder.fit_transform(data.iloc[:,0]).astype('float64')\n",
    "\n",
    "corr = data.corr()\n",
    "kot = corr[abs(corr)>=.5] #select only correlations above abs(.5), which is fairly low\n",
    "\n",
    "plt.figure(figsize=(5, 3))\n",
    "sns.heatmap(kot)"
   ]
  },
  {
   "cell_type": "markdown",
   "metadata": {},
   "source": [
    "As can be seen from the heatmap, very few features have a high correlation with each other, and those that have a high correlation with each other are explained by the fact that one of them is derived from the other."
   ]
  },
  {
   "cell_type": "markdown",
   "metadata": {},
   "source": [
    "<h1>Plots</h1>"
   ]
  },
  {
   "cell_type": "code",
   "execution_count": 53,
   "metadata": {},
   "outputs": [
    {
     "data": {
      "text/plain": [
       "<matplotlib.legend.Legend at 0x7f963821fb20>"
      ]
     },
     "execution_count": 53,
     "metadata": {},
     "output_type": "execute_result"
    },
    {
     "data": {
      "image/png": "[encoded data removed]",
      "text/plain": [
       "<Figure size 720x360 with 1 Axes>"
      ]
     },
     "metadata": {
      "needs_background": "light"
     },
     "output_type": "display_data"
    }
   ],
   "source": [
    "plt.figure(figsize=(10, 5))\n",
    "# Scatter plot for training data\n",
    "plt.scatter(regr.predict(X_train), regr.predict(X_train) - y_train, \n",
    "            color = \"green\", label = 'Train data') \n",
    " \n",
    "# plot predicted data\n",
    "plt.plot(regr.predict(X_test), regr.predict(X_test) - y_test,\n",
    "            'o',color = \"blue\", label = 'Test data') \n",
    "# plotting line for zero residual error\n",
    "plt.hlines(y = 0, xmin = 0, xmax = 400,color = \"red\")\n",
    "plt.legend()"
   ]
  },
  {
   "cell_type": "code",
   "execution_count": null,
   "metadata": {},
   "outputs": [
    {
     "data": {
      "text/html": [
       "<div>\n",
       "<style scoped>\n",
       "    .dataframe tbody tr th:only-of-type {\n",
       "        vertical-align: middle;\n",
       "    }\n",
       "\n",
       "    .dataframe tbody tr th {\n",
       "        vertical-align: top;\n",
       "    }\n",
       "\n",
       "    .dataframe thead th {\n",
       "        text-align: right;\n",
       "    }\n",
       "</style>\n",
       "<table border=\"1\" class=\"dataframe\">\n",
       "  <thead>\n",
       "    <tr style=\"text-align: right;\">\n",
       "      <th></th>\n",
       "      <th>timestamp</th>\n",
       "      <th>time</th>\n",
       "      <th>code</th>\n",
       "      <th>code_glucose</th>\n",
       "      <th>glucose</th>\n",
       "      <th>code_insulin</th>\n",
       "      <th>insulin</th>\n",
       "      <th>hypo_symptoms</th>\n",
       "      <th>code_meal</th>\n",
       "      <th>meal</th>\n",
       "      <th>other</th>\n",
       "      <th>code_exercise</th>\n",
       "      <th>exercise</th>\n",
       "      <th>glucose_class</th>\n",
       "    </tr>\n",
       "  </thead>\n",
       "  <tbody>\n",
       "  </tbody>\n",
       "</table>\n",
       "</div>"
      ],
      "text/plain": [
       "Empty DataFrame\n",
       "Columns: [timestamp, time, code, code_glucose, glucose, code_insulin, insulin, hypo_symptoms, code_meal, meal, other, code_exercise, exercise, glucose_class]\n",
       "Index: []"
      ]
     },
     "execution_count": 54,
     "metadata": {},
     "output_type": "execute_result"
    }
   ],
   "source": [
    "#check if any glucose values have been interpolated to negative values\n",
    "data[data.glucose < 0]"
   ]
  },
  {
   "cell_type": "code",
   "execution_count": 56,
   "metadata": {},
   "outputs": [
    {
     "data": {
      "text/plain": [
       "<matplotlib.collections.PathCollection at 0x7f9638b9e2e0>"
      ]
     },
     "execution_count": 56,
     "metadata": {},
     "output_type": "execute_result"
    },
    {
     "data": {
      "image/png": "[encoded data removed]",
      "text/plain": [
       "<Figure size 432x288 with 1 Axes>"
      ]
     },
     "metadata": {
      "needs_background": "light"
     },
     "output_type": "display_data"
    }
   ],
   "source": [
    "plt.scatter(data['insulin'], data['glucose'])"
   ]
  },
  {
   "cell_type": "code",
   "execution_count": 57,
   "metadata": {},
   "outputs": [
    {
     "data": {
      "text/html": [
       "<div>\n",
       "<style scoped>\n",
       "    .dataframe tbody tr th:only-of-type {\n",
       "        vertical-align: middle;\n",
       "    }\n",
       "\n",
       "    .dataframe tbody tr th {\n",
       "        vertical-align: top;\n",
       "    }\n",
       "\n",
       "    .dataframe thead th {\n",
       "        text-align: right;\n",
       "    }\n",
       "</style>\n",
       "<table border=\"1\" class=\"dataframe\">\n",
       "  <thead>\n",
       "    <tr style=\"text-align: right;\">\n",
       "      <th></th>\n",
       "      <th>timestamp</th>\n",
       "      <th>time</th>\n",
       "      <th>code</th>\n",
       "      <th>code_glucose</th>\n",
       "      <th>glucose</th>\n",
       "      <th>code_insulin</th>\n",
       "      <th>insulin</th>\n",
       "      <th>hypo_symptoms</th>\n",
       "      <th>code_meal</th>\n",
       "      <th>meal</th>\n",
       "      <th>other</th>\n",
       "      <th>code_exercise</th>\n",
       "      <th>exercise</th>\n",
       "      <th>glucose_class</th>\n",
       "    </tr>\n",
       "  </thead>\n",
       "  <tbody>\n",
       "    <tr>\n",
       "      <th>16697</th>\n",
       "      <td>1636.0</td>\n",
       "      <td>1380</td>\n",
       "      <td>34</td>\n",
       "      <td>0</td>\n",
       "      <td>319.0</td>\n",
       "      <td>34</td>\n",
       "      <td>279</td>\n",
       "      <td>0</td>\n",
       "      <td>0</td>\n",
       "      <td>0</td>\n",
       "      <td>0</td>\n",
       "      <td>0</td>\n",
       "      <td>0</td>\n",
       "      <td>high</td>\n",
       "    </tr>\n",
       "    <tr>\n",
       "      <th>16746</th>\n",
       "      <td>1733.0</td>\n",
       "      <td>1370</td>\n",
       "      <td>34</td>\n",
       "      <td>0</td>\n",
       "      <td>172.0</td>\n",
       "      <td>34</td>\n",
       "      <td>240</td>\n",
       "      <td>0</td>\n",
       "      <td>0</td>\n",
       "      <td>0</td>\n",
       "      <td>0</td>\n",
       "      <td>0</td>\n",
       "      <td>0</td>\n",
       "      <td>normal</td>\n",
       "    </tr>\n",
       "    <tr>\n",
       "      <th>16854</th>\n",
       "      <td>1919.0</td>\n",
       "      <td>1100</td>\n",
       "      <td>34</td>\n",
       "      <td>0</td>\n",
       "      <td>199.0</td>\n",
       "      <td>34</td>\n",
       "      <td>388</td>\n",
       "      <td>0</td>\n",
       "      <td>0</td>\n",
       "      <td>0</td>\n",
       "      <td>0</td>\n",
       "      <td>0</td>\n",
       "      <td>0</td>\n",
       "      <td>normal</td>\n",
       "    </tr>\n",
       "    <tr>\n",
       "      <th>18181</th>\n",
       "      <td>935.0</td>\n",
       "      <td>720</td>\n",
       "      <td>33</td>\n",
       "      <td>0</td>\n",
       "      <td>250.0</td>\n",
       "      <td>33</td>\n",
       "      <td>344</td>\n",
       "      <td>0</td>\n",
       "      <td>0</td>\n",
       "      <td>0</td>\n",
       "      <td>0</td>\n",
       "      <td>0</td>\n",
       "      <td>0</td>\n",
       "      <td>high</td>\n",
       "    </tr>\n",
       "  </tbody>\n",
       "</table>\n",
       "</div>"
      ],
      "text/plain": [
       "       timestamp  time  code  code_glucose  glucose  code_insulin  insulin  \\\n",
       "16697     1636.0  1380    34             0    319.0            34      279   \n",
       "16746     1733.0  1370    34             0    172.0            34      240   \n",
       "16854     1919.0  1100    34             0    199.0            34      388   \n",
       "18181      935.0   720    33             0    250.0            33      344   \n",
       "\n",
       "       hypo_symptoms  code_meal  meal  other  code_exercise  exercise  \\\n",
       "16697              0          0     0      0              0         0   \n",
       "16746              0          0     0      0              0         0   \n",
       "16854              0          0     0      0              0         0   \n",
       "18181              0          0     0      0              0         0   \n",
       "\n",
       "      glucose_class  \n",
       "16697          high  \n",
       "16746        normal  \n",
       "16854        normal  \n",
       "18181          high  "
      ]
     },
     "execution_count": 57,
     "metadata": {},
     "output_type": "execute_result"
    }
   ],
   "source": [
    "data[data.insulin >200]"
   ]
  },
  {
   "cell_type": "code",
   "execution_count": 55,
   "metadata": {},
   "outputs": [],
   "source": [
    "#SNIPPET TO DRAW A MIND\n",
    "#z_tsne = TSNE().fit_transform(X)\n",
    "#tsne = pd.DataFrame()\n",
    "#tsne['Y'] = y\n",
    "#tsne['component_1'] = z_tsne[:,0]\n",
    "#tsne['component_2'] = z_tsne[:,1]\n",
    "\n",
    "#sns.scatterplot(x='component_1', y='component_2', hue=tsne.Y.tolist(), data=tsne).set(title=\"data T-SNE projection\")\n",
    "#tsne.head()"
   ]
  },
  {
   "cell_type": "markdown",
   "metadata": {},
   "source": [
    "<h1>Conclusion</h1>\n",
    "This model should absolutely not be used in a real situation. Its accuracy is not nearly sufficient to be used in potentially life-thretening conditions, such as hypoglycemia or hyperglycemia in diabetic patients. The mean absolute error is over 60, which is pretty high when blood glucose values are between 0 and 500 mg/dL.<br>\n",
    "The question is also should this data be used to train a model? The dataset is fairly low quality (for instance the units of the values are not specified, not even in the README). The dataset is also extremely incomplete, as in a lot of things aren't documented at all. Some patient mostly have meal information, some have more or less information about meals, and so on. In order to build a usable model, the data on which the algorithm is trained should be more complete (here for instance for patient 3, for the last 3 data points, we only have an insulin value a day, which obviously does not give any information on the blood glucose)"
   ]
  },
  {
   "cell_type": "code",
   "execution_count": null,
   "metadata": {},
   "outputs": [],
   "source": []
  }
 ],
 "metadata": {
  "interpreter": {
   "hash": "f11f10baafecf178a491ed6e6225a30c5baef129d6c47e6eb97f70800a0b29ef"
  },
  "kernelspec": {
   "display_name": "Python 3 (ipykernel)",
   "language": "python",
   "name": "python3"
  },
  "language_info": {
   "codemirror_mode": {
    "name": "ipython",
    "version": 3
   },
   "file_extension": ".py",
   "mimetype": "text/x-python",
   "name": "python",
   "nbconvert_exporter": "python",
   "pygments_lexer": "ipython3",
   "version": "3.8.10"
  }
 },
 "nbformat": 4,
 "nbformat_minor": 4
}
